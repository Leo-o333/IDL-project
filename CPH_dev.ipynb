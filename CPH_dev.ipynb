{
 "cells": [
  {
   "cell_type": "code",
   "execution_count": 1,
   "metadata": {
    "collapsed": true
   },
   "outputs": [
    {
     "name": "stdout",
     "output_type": "stream",
     "text": [
      "RELOADING THE DATASET!!!!!\n",
      "No Features Specified!! using default baseline features.\n",
      "(10251, 5)\n",
      "(10205, 3)\n",
      "(10251, 18)\n",
      "(10197, 5)\n",
      "(10240, 9)\n",
      "ACCORD-Glycemia\n"
     ]
    }
   ],
   "source": [
    "import os\n",
    "import sys\n",
    "# sys.path.append('./')\n",
    "#sys.path.append('/Users/yushiqiu/Documents/surv-rcts')\n",
    "#dataset = os.system('python3 /Users/yushiqiu/Documents/surv-rcts/dev/dev_dataset.py')\n",
    "import dev.dev_dataset as dev\n",
    "dataset=dev.dataset"
   ]
  },
  {
   "cell_type": "code",
   "execution_count": 2,
   "outputs": [],
   "source": [
    "from auton_survival.preprocessing import Preprocessor\n",
    "features = Preprocessor().fit_transform(dataset.covariates, cat_feats=dataset.cat_features, num_feats=dataset.num_features)"
   ],
   "metadata": {
    "collapsed": false
   }
  },
  {
   "cell_type": "code",
   "execution_count": 3,
   "outputs": [],
   "source": [
    "# time = dataset.outcomes.event\n",
    "import numpy as np\n",
    "horizons = [0.25, 0.5, 0.75]\n",
    "times = np.quantile(dataset.outcomes.time[dataset.outcomes.event==1], horizons).tolist()\n",
    "# times = [365, 730,1825]"
   ],
   "metadata": {
    "collapsed": false
   }
  },
  {
   "cell_type": "code",
   "execution_count": 10,
   "outputs": [],
   "source": [
    "x, y = features, dataset.outcomes\n",
    "\n",
    "n = len(x)\n",
    "\n",
    "tr_size = int(n*0.70)\n",
    "vl_size = int(n*0.10)\n",
    "te_size = int(n*0.20)\n",
    "\n",
    "x_train, x_test, x_val = x.iloc[:tr_size], x.iloc[-te_size:], x.iloc[tr_size:tr_size+vl_size]\n",
    "y_train, y_test, y_val = y.iloc[:tr_size], y.iloc[-te_size:], y.iloc[tr_size:tr_size+vl_size]\n"
   ],
   "metadata": {
    "collapsed": false
   }
  },
  {
   "cell_type": "code",
   "execution_count": 11,
   "outputs": [],
   "source": [
    "from sklearn.model_selection import ParameterGrid"
   ],
   "metadata": {
    "collapsed": false
   }
  },
  {
   "cell_type": "code",
   "execution_count": 12,
   "outputs": [],
   "source": [
    "param_grid = {'l2' : [1e-3, 1e-4]}\n",
    "params = ParameterGrid(param_grid)"
   ],
   "metadata": {
    "collapsed": false
   }
  },
  {
   "cell_type": "code",
   "execution_count": 13,
   "outputs": [],
   "source": [
    "from auton_survival.estimators import SurvivalModel\n",
    "from auton_survival.metrics import survival_regression_metric"
   ],
   "metadata": {
    "collapsed": false
   }
  },
  {
   "cell_type": "code",
   "execution_count": 14,
   "outputs": [],
   "source": [
    "models = []\n",
    "for param in params:\n",
    "    model = SurvivalModel('cph', random_seed=2, l2=param['l2'])\n",
    "\n",
    "    # The fit method is called to train the model\n",
    "    model.fit(x_train, y_train)\n",
    "\n",
    "    # Obtain survival probabilities for validation set and compute the Integrated Brier Score\n",
    "    predictions_val = model.predict_survival(x_val, times)\n",
    "    metric_val = survival_regression_metric('ibs', y_val, predictions_val, times, y_train)\n",
    "    models.append([metric_val, model])\n",
    "\n",
    "# Select the best model based on the mean metric value computed for the validation set\n",
    "metric_vals = [i[0] for i in models]\n",
    "first_min_idx = metric_vals.index(min(metric_vals))\n",
    "model = models[first_min_idx][1]"
   ],
   "metadata": {
    "collapsed": false
   }
  },
  {
   "cell_type": "code",
   "execution_count": 18,
   "outputs": [
    {
     "data": {
      "text/plain": "<Figure size 640x480 with 2 Axes>",
      "image/png": "[encoded data removed]"
     },
     "metadata": {},
     "output_type": "display_data"
    }
   ],
   "source": [
    "from auton_survival.examples.estimators_demo_utils import plot_performance_metrics\n",
    "\n",
    "# Obtain survival probabilities for test set\n",
    "predictions_te = model.predict_survival(x_test, times)\n",
    "\n",
    "# Compute the Brier Score and time-dependent concordance index for the test set to assess model performance\n",
    "results = dict()\n",
    "results['Brier Score'] = survival_regression_metric('brs', outcomes=y_test, predictions=predictions_te,\n",
    "                                                    times=times, outcomes_train=y_train)\n",
    "results['Concordance Index'] = survival_regression_metric('ctd', outcomes=y_test, predictions=predictions_te,\n",
    "                                                    times=times, outcomes_train=y_train)\n",
    "plot_performance_metrics(results, times)"
   ],
   "metadata": {
    "collapsed": false
   }
  },
  {
   "cell_type": "code",
   "execution_count": 19,
   "outputs": [
    {
     "name": "stdout",
     "output_type": "stream",
     "text": [
      "[0.7450266965081652, 0.7461854246119881, 0.7174534823261592]\n"
     ]
    }
   ],
   "source": [
    "print(results['Concordance Index'])"
   ],
   "metadata": {
    "collapsed": false
   }
  },
  {
   "cell_type": "code",
   "execution_count": null,
   "outputs": [],
   "source": [],
   "metadata": {
    "collapsed": false
   }
  }
 ],
 "metadata": {
  "kernelspec": {
   "display_name": "Python 3",
   "language": "python",
   "name": "python3"
  },
  "language_info": {
   "codemirror_mode": {
    "name": "ipython",
    "version": 2
   },
   "file_extension": ".py",
   "mimetype": "text/x-python",
   "name": "python",
   "nbconvert_exporter": "python",
   "pygments_lexer": "ipython2",
   "version": "2.7.6"
  }
 },
 "nbformat": 4,
 "nbformat_minor": 0
}
