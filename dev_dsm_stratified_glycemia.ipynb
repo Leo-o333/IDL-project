{
 "cells": [
  {
   "cell_type": "code",
   "execution_count": 28,
   "metadata": {},
   "outputs": [],
   "source": [
    "import os\n",
    "import sys\n",
    "import pandas as pd\n",
    "#sys.path.append('./')\n",
    "#sys.path.append('/Users/yushiqiu/Documents/surv-rcts')\n",
    "#dataset = os.system('python3 /Users/yushiqiu/Documents/surv-rcts/dev/dev_dataset.py')\n",
    "import dev.dev_dataset as dev\n",
    "from sksurv.metrics import concordance_index_ipcw, brier_score, cumulative_dynamic_auc\n",
    "dataset=dev.dataset(sys.argv[1])\n",
    "\n"
   ]
  },
  {
   "cell_type": "code",
   "execution_count": 29,
   "metadata": {},
   "outputs": [],
   "source": [
    "a = dataset._interventions\n",
    "b = a['Main Study']\n",
    "index_control = b.loc[b ==dataset.control_arm].index\n",
    "index_treatment = b.loc[b==dataset.treatment_arm].index\n",
    "control_covariate = dataset.covariates.loc[index_control]\n",
    "treatment_covariate = dataset.covariates.loc[index_treatment]"
   ]
  },
  {
   "cell_type": "code",
   "execution_count": 30,
   "metadata": {},
   "outputs": [],
   "source": [
    "from auton_survival.preprocessing import Preprocessor\n",
    "features_control = Preprocessor().fit_transform(control_covariate, cat_feats=dataset.cat_features, num_feats=dataset.num_features)\n",
    "features_treatment = Preprocessor().fit_transform(treatment_covariate, cat_feats=dataset.cat_features, num_feats=dataset.num_features)\n",
    "outcomes_control = dataset.outcomes.loc[index_control]\n",
    "outcomes_treatment = dataset.outcomes.loc[index_treatment]"
   ]
  },
  {
   "cell_type": "code",
   "execution_count": 31,
   "metadata": {},
   "outputs": [],
   "source": [
    "import numpy as np\n",
    "# horizons = [0.25, 0.5, 0.75]\n",
    "# times = np.quantile(dataset.outcomes.time[dataset.outcomes.event==1], horizons).tolist()\n",
    "#times_treatment = np.quantile(outcomes_treatment.time[outcomes_treatment.event==1], horizons).tolist()\n",
    "times = [365.0,730.0,1825.0]\n"
   ]
  },
  {
   "cell_type": "code",
   "execution_count": 32,
   "metadata": {},
   "outputs": [],
   "source": [
    "import numpy as np\n",
    "horizons = [0.25, 0.5, 0.75]\n",
    "# times = np.quantile(outcomes.time[outcomes.event==1], horizons).tolist()"
   ]
  },
  {
   "cell_type": "code",
   "execution_count": 33,
   "metadata": {},
   "outputs": [],
   "source": [
    "x_control, t_control, e_control = features_control.values, outcomes_control.time.values, outcomes_control.event.values\n",
    "\n",
    "n = len(x_control)\n",
    "\n",
    "tr_size = int(n*0.50)\n",
    "vl_size = int(n*0.20)\n",
    "te_size = int(n*0.30)\n",
    "\n",
    "x_train_control, x_test_control, x_val_control = x_control[:tr_size], x_control[-te_size:], x_control[tr_size:tr_size+vl_size]\n",
    "t_train_control, t_test_control, t_val_control = t_control[:tr_size], t_control[-te_size:], t_control[tr_size:tr_size+vl_size]\n",
    "e_train_control, e_test_control, e_val_control = e_control[:tr_size], e_control[-te_size:], e_control[tr_size:tr_size+vl_size]"
   ]
  },
  {
   "cell_type": "code",
   "execution_count": 34,
   "metadata": {},
   "outputs": [],
   "source": [
    "x_treatment, t_treatment, e_treatment = features_treatment.values, outcomes_treatment.time.values, outcomes_treatment.event.values\n",
    "\n",
    "n = len(x_treatment)\n",
    "\n",
    "tr_size = int(n*0.50)\n",
    "vl_size = int(n*0.20)\n",
    "te_size = int(n*0.30)\n",
    "\n",
    "x_train_treatment, x_test_treatment, x_val_treatment = x_treatment[:tr_size], x_treatment[-te_size:], x_treatment[tr_size:tr_size+vl_size]\n",
    "t_train_treatment, t_test_treatment, t_val_treatment = t_treatment[:tr_size], t_treatment[-te_size:], t_treatment[tr_size:tr_size+vl_size]\n",
    "e_train_treatment, e_test_treatment, e_val_treatment = e_treatment[:tr_size], e_treatment[-te_size:], e_treatment[tr_size:tr_size+vl_size]"
   ]
  },
  {
   "cell_type": "code",
   "execution_count": 35,
   "metadata": {},
   "outputs": [
    {
     "name": "stdout",
     "output_type": "stream",
     "text": [
      "(2639, 41) (1583, 41) (1054, 41)\n"
     ]
    }
   ],
   "source": [
    "x_train = np.concatenate((x_train_control, x_train_treatment), axis=0)\n",
    "x_test = np.concatenate((x_test_control, x_test_treatment), axis=0)\n",
    "x_val = np.concatenate((x_val_control, x_val_treatment), axis=0)\n",
    "\n",
    "t_train = np.concatenate((t_train_control, t_train_treatment), axis=0)\n",
    "t_test = np.concatenate((t_test_control, t_test_treatment), axis=0)\n",
    "t_val = np.concatenate((t_val_control, t_val_treatment), axis=0)\n",
    "\n",
    "e_train = np.concatenate((e_train_control, e_train_treatment), axis=0)\n",
    "e_test = np.concatenate((e_test_control, e_test_treatment), axis=0)\n",
    "e_val = np.concatenate((e_val_control, e_val_treatment), axis=0)\n",
    "\n"
   ]
  },
  {
   "attachments": {},
   "cell_type": "markdown",
   "metadata": {},
   "source": [
    "## Need to put back time and event for the sake of brier"
   ]
  },
  {
   "cell_type": "code",
   "execution_count": 36,
   "metadata": {},
   "outputs": [],
   "source": [
    "# convert outcomes_test back to dataframe in order to fit in eval_brier\n",
    "outcomes_test = np.concatenate((e_test.reshape(len(t_test), 1), t_test.reshape(len(e_test),1)), axis=1)\n",
    "\n",
    "outcomes_test = pd.DataFrame(outcomes_test, columns=['event', 'time'])\n",
    "\n",
    "y_train = np.concatenate((e_train.reshape(len(t_train), 1), t_train.reshape(len(e_train),1)), axis=1)"
   ]
  },
  {
   "attachments": {},
   "cell_type": "markdown",
   "metadata": {},
   "source": [
    "### Setting the parameter grid\n"
   ]
  },
  {
   "cell_type": "code",
   "execution_count": 37,
   "metadata": {},
   "outputs": [],
   "source": [
    "from sklearn.model_selection import ParameterGrid"
   ]
  },
  {
   "cell_type": "code",
   "execution_count": 38,
   "metadata": {},
   "outputs": [],
   "source": [
    "param_grid = {'k' : [3, 4, 6],\n",
    "              'distribution' : ['LogNormal', 'Weibull'],\n",
    "              'learning_rate' : [ 1e-4, 1e-3,1e-2],\n",
    "              'layers' : [ [], [100], [100, 100], [100,100,100]]\n",
    "             }\n",
    "params = ParameterGrid(param_grid)"
   ]
  },
  {
   "attachments": {},
   "cell_type": "markdown",
   "metadata": {},
   "source": [
    "# DSM"
   ]
  },
  {
   "cell_type": "code",
   "execution_count": 39,
   "metadata": {},
   "outputs": [],
   "source": [
    "from auton_survival.models.dsm import DeepSurvivalMachines\n",
    "from auton_survival.metrics import survival_regression_metric"
   ]
  },
  {
   "attachments": {},
   "cell_type": "markdown",
   "metadata": {},
   "source": [
    "# Write a function to evaluate brier score"
   ]
  },
  {
   "cell_type": "code",
   "execution_count": 40,
   "metadata": {},
   "outputs": [],
   "source": [
    "def eval_brier(predictions, outcomes_test,horizons):\n",
    "    from auton_survival.metrics import survival_regression_metric\n",
    "    from sklearn.metrics import roc_auc_score, brier_score_loss\n",
    "    from sksurv import metrics\n",
    "    from sksurv.util import Surv\n",
    "    from tabulate import tabulate\n",
    "    test_uncensored_brs = []\n",
    "    for i, horizon in enumerate(horizons):\n",
    "\n",
    "        y_pos = outcomes_test.time>=horizon\n",
    "        y_neg = (outcomes_test.time<horizon)&(outcomes_test.event)\n",
    "    \n",
    "        outcomes_uncensored  = outcomes_test.loc[y_pos|y_neg]\n",
    "\n",
    "        y = np.zeros(len(outcomes_uncensored))\n",
    "\n",
    "        y[outcomes_uncensored.time>=horizon] = 1\n",
    "        y[outcomes_uncensored.time<horizon] = 0\n",
    "        test_uncensored_brs.append(brier_score_loss(y, predictions[:, i][y_pos|y_neg]))\n",
    "    return test_uncensored_brs"
   ]
  },
  {
   "cell_type": "code",
   "execution_count": 41,
   "metadata": {},
   "outputs": [
    {
     "name": "stderr",
     "output_type": "stream",
     "text": [
      " 23%|██▎       | 2318/10000 [00:03<00:12, 607.69it/s]\n",
      " 40%|████      | 40/100 [00:02<00:04, 14.43it/s]\n",
      " 23%|██▎       | 2318/10000 [00:03<00:12, 618.94it/s]\n",
      "  6%|▌         | 6/100 [00:00<00:09,  9.47it/s]\n",
      " 23%|██▎       | 2318/10000 [00:03<00:12, 620.61it/s]\n",
      "  8%|▊         | 8/100 [00:00<00:08, 10.96it/s]\n",
      " 23%|██▎       | 2318/10000 [00:03<00:12, 615.92it/s]\n",
      " 18%|█▊        | 18/100 [00:01<00:07, 11.00it/s]\n",
      " 23%|██▎       | 2318/10000 [00:03<00:12, 629.40it/s]\n",
      "  8%|▊         | 8/100 [00:00<00:09,  9.62it/s]\n",
      " 23%|██▎       | 2318/10000 [00:03<00:12, 618.03it/s]\n",
      "  4%|▍         | 4/100 [00:00<00:13,  7.32it/s]\n",
      " 23%|██▎       | 2318/10000 [00:03<00:12, 636.52it/s]\n",
      " 13%|█▎        | 13/100 [00:01<00:09,  9.18it/s]\n",
      " 23%|██▎       | 2318/10000 [00:03<00:12, 623.20it/s]\n",
      "  8%|▊         | 8/100 [00:01<00:11,  8.00it/s]\n",
      " 23%|██▎       | 2318/10000 [00:03<00:11, 643.31it/s]\n",
      " 10%|█         | 10/100 [00:01<00:10,  9.00it/s]\n",
      " 23%|██▎       | 2318/10000 [00:03<00:12, 628.40it/s]\n",
      " 13%|█▎        | 13/100 [00:01<00:10,  7.96it/s]\n",
      " 23%|██▎       | 2318/10000 [00:03<00:12, 627.03it/s]\n",
      "  8%|▊         | 8/100 [00:01<00:12,  7.38it/s]\n",
      " 23%|██▎       | 2318/10000 [00:03<00:12, 634.76it/s]\n",
      "  5%|▌         | 5/100 [00:00<00:15,  6.33it/s]\n",
      " 23%|██▎       | 2318/10000 [00:03<00:12, 638.37it/s]\n",
      " 34%|███▍      | 34/100 [00:02<00:04, 13.20it/s]\n",
      " 23%|██▎       | 2318/10000 [00:03<00:12, 616.51it/s]\n",
      "  6%|▌         | 6/100 [00:00<00:10,  8.70it/s]\n",
      " 23%|██▎       | 2318/10000 [00:03<00:12, 624.65it/s]\n",
      "  8%|▊         | 8/100 [00:00<00:09,  9.84it/s]\n",
      " 23%|██▎       | 2318/10000 [00:03<00:12, 616.06it/s]\n",
      "  3%|▎         | 3/100 [00:00<00:16,  5.86it/s]\n",
      " 23%|██▎       | 2318/10000 [00:03<00:13, 582.93it/s]\n",
      "  8%|▊         | 8/100 [00:00<00:10,  8.50it/s]\n",
      " 23%|██▎       | 2318/10000 [00:03<00:13, 581.79it/s]\n",
      "  3%|▎         | 3/100 [00:00<00:18,  5.20it/s]\n",
      " 23%|██▎       | 2318/10000 [00:04<00:13, 568.40it/s]\n",
      " 15%|█▌        | 15/100 [00:01<00:11,  7.67it/s]\n",
      " 23%|██▎       | 2318/10000 [00:04<00:13, 562.48it/s]\n",
      "  9%|▉         | 9/100 [00:01<00:11,  7.75it/s]\n",
      " 23%|██▎       | 2318/10000 [00:03<00:12, 624.78it/s]\n",
      "  3%|▎         | 3/100 [00:00<00:17,  5.51it/s]\n",
      " 23%|██▎       | 2318/10000 [00:03<00:12, 591.72it/s]\n",
      "  3%|▎         | 3/100 [00:00<00:20,  4.64it/s]\n",
      " 23%|██▎       | 2318/10000 [00:03<00:12, 611.00it/s]\n",
      "  6%|▌         | 6/100 [00:00<00:14,  6.29it/s]\n",
      " 23%|██▎       | 2318/10000 [00:03<00:12, 615.67it/s]\n",
      "  4%|▍         | 4/100 [00:00<00:17,  5.57it/s]\n",
      " 23%|██▎       | 2318/10000 [00:03<00:12, 634.22it/s]\n",
      " 64%|██████▍   | 64/100 [00:06<00:03, 10.28it/s]\n",
      " 23%|██▎       | 2318/10000 [00:03<00:12, 606.74it/s]\n",
      "  7%|▋         | 7/100 [00:00<00:12,  7.32it/s]\n",
      " 23%|██▎       | 2318/10000 [00:03<00:12, 621.44it/s]\n",
      "  8%|▊         | 8/100 [00:00<00:10,  8.52it/s]\n",
      " 23%|██▎       | 2318/10000 [00:03<00:12, 634.84it/s]\n",
      "  3%|▎         | 3/100 [00:00<00:18,  5.19it/s]\n",
      " 23%|██▎       | 2318/10000 [00:03<00:12, 614.26it/s]\n",
      " 26%|██▌       | 26/100 [00:02<00:08,  8.68it/s]\n",
      " 23%|██▎       | 2318/10000 [00:03<00:12, 612.31it/s]\n",
      "  3%|▎         | 3/100 [00:00<00:19,  5.02it/s]\n",
      " 23%|██▎       | 2318/10000 [00:03<00:12, 613.00it/s]\n",
      "  3%|▎         | 3/100 [00:00<00:20,  4.83it/s]\n",
      " 23%|██▎       | 2318/10000 [00:03<00:12, 623.26it/s]\n",
      "  8%|▊         | 8/100 [00:01<00:14,  6.55it/s]\n",
      " 23%|██▎       | 2318/10000 [00:03<00:12, 618.29it/s]\n",
      "  3%|▎         | 3/100 [00:00<00:20,  4.80it/s]\n",
      " 23%|██▎       | 2318/10000 [00:03<00:12, 613.09it/s]\n",
      "  3%|▎         | 3/100 [00:00<00:23,  4.18it/s]\n",
      " 23%|██▎       | 2318/10000 [00:03<00:12, 593.97it/s]\n",
      "  3%|▎         | 3/100 [00:00<00:22,  4.23it/s]\n",
      " 23%|██▎       | 2318/10000 [00:03<00:12, 612.01it/s]\n",
      "  9%|▉         | 9/100 [00:01<00:14,  6.21it/s]\n",
      " 56%|█████▌    | 5596/10000 [00:08<00:06, 640.73it/s]\n",
      "100%|██████████| 100/100 [00:05<00:00, 16.71it/s]\n",
      " 56%|█████▌    | 5596/10000 [00:08<00:06, 654.68it/s]\n",
      " 15%|█▌        | 15/100 [00:01<00:06, 13.62it/s]\n",
      " 56%|█████▌    | 5596/10000 [00:08<00:06, 657.13it/s]\n",
      " 14%|█▍        | 14/100 [00:01<00:06, 13.72it/s]\n",
      " 56%|█████▌    | 5596/10000 [00:08<00:06, 635.80it/s]\n",
      " 29%|██▉       | 29/100 [00:02<00:05, 12.70it/s]\n",
      " 56%|█████▌    | 5596/10000 [00:08<00:06, 647.89it/s]\n",
      "  8%|▊         | 8/100 [00:00<00:09, 10.07it/s]\n",
      " 56%|█████▌    | 5596/10000 [00:08<00:06, 632.78it/s]\n",
      "  3%|▎         | 3/100 [00:00<00:13,  7.21it/s]\n",
      " 56%|█████▌    | 5596/10000 [00:08<00:06, 651.22it/s]\n",
      " 18%|█▊        | 18/100 [00:01<00:08, 10.22it/s]\n",
      " 56%|█████▌    | 5596/10000 [00:08<00:06, 657.60it/s]\n",
      "  8%|▊         | 8/100 [00:00<00:10,  8.50it/s]\n",
      " 56%|█████▌    | 5596/10000 [00:08<00:06, 661.85it/s]\n",
      " 10%|█         | 10/100 [00:01<00:09,  9.46it/s]\n",
      " 56%|█████▌    | 5596/10000 [00:08<00:06, 647.36it/s]\n",
      " 15%|█▌        | 15/100 [00:01<00:10,  8.49it/s]\n",
      " 56%|█████▌    | 5596/10000 [00:08<00:06, 650.14it/s]\n",
      "  4%|▍         | 4/100 [00:00<00:15,  6.32it/s]\n",
      " 56%|█████▌    | 5596/10000 [00:08<00:06, 655.09it/s]\n",
      " 11%|█         | 11/100 [00:01<00:10,  8.48it/s]\n",
      " 56%|█████▌    | 5596/10000 [00:08<00:06, 647.45it/s]\n",
      " 90%|█████████ | 90/100 [00:06<00:00, 14.55it/s]\n",
      " 56%|█████▌    | 5596/10000 [00:08<00:06, 655.91it/s]\n",
      " 10%|█         | 10/100 [00:00<00:07, 11.61it/s]\n",
      " 56%|█████▌    | 5596/10000 [00:08<00:06, 638.74it/s]\n",
      " 14%|█▍        | 14/100 [00:01<00:06, 12.39it/s]\n",
      " 56%|█████▌    | 5596/10000 [00:08<00:06, 657.29it/s]\n",
      " 29%|██▉       | 29/100 [00:02<00:06, 11.30it/s]\n",
      " 56%|█████▌    | 5596/10000 [00:08<00:06, 654.06it/s]\n",
      "  8%|▊         | 8/100 [00:00<00:09,  9.40it/s]\n",
      " 56%|█████▌    | 5596/10000 [00:08<00:06, 671.68it/s]\n",
      "  5%|▌         | 5/100 [00:00<00:11,  8.41it/s]\n",
      " 56%|█████▌    | 5596/10000 [00:08<00:06, 669.21it/s]\n",
      " 16%|█▌        | 16/100 [00:01<00:10,  8.32it/s]\n",
      " 56%|█████▌    | 5596/10000 [00:08<00:06, 635.46it/s]\n",
      "  9%|▉         | 9/100 [00:01<00:10,  8.29it/s]\n",
      " 56%|█████▌    | 5596/10000 [00:08<00:06, 660.88it/s]\n",
      "  5%|▌         | 5/100 [00:00<00:12,  7.67it/s]\n",
      " 56%|█████▌    | 5596/10000 [00:08<00:06, 673.05it/s]\n",
      " 15%|█▌        | 15/100 [00:01<00:10,  8.10it/s]\n",
      " 56%|█████▌    | 5596/10000 [00:08<00:06, 645.32it/s]\n",
      " 10%|█         | 10/100 [00:01<00:12,  7.16it/s]\n",
      " 56%|█████▌    | 5596/10000 [00:08<00:06, 675.80it/s]\n",
      " 35%|███▌      | 35/100 [00:03<00:06,  9.78it/s]\n",
      " 56%|█████▌    | 5596/10000 [00:08<00:06, 664.78it/s]\n",
      " 93%|█████████▎| 93/100 [00:07<00:00, 11.71it/s]\n",
      " 56%|█████▌    | 5596/10000 [00:08<00:06, 662.42it/s]\n",
      " 15%|█▌        | 15/100 [00:01<00:07, 11.12it/s]\n",
      " 56%|█████▌    | 5596/10000 [00:08<00:06, 690.23it/s]\n",
      " 14%|█▍        | 14/100 [00:01<00:08, 10.58it/s]\n",
      " 56%|█████▌    | 5596/10000 [00:08<00:06, 645.36it/s]\n",
      " 18%|█▊        | 18/100 [00:01<00:08,  9.38it/s]\n",
      " 56%|█████▌    | 5596/10000 [00:08<00:06, 654.12it/s]\n",
      " 17%|█▋        | 17/100 [00:01<00:08, 10.07it/s]\n",
      " 56%|█████▌    | 5596/10000 [00:08<00:06, 678.45it/s]\n",
      "  5%|▌         | 5/100 [00:00<00:14,  6.70it/s]\n",
      " 56%|█████▌    | 5596/10000 [00:08<00:06, 640.59it/s]\n",
      " 16%|█▌        | 16/100 [00:02<00:10,  7.80it/s]\n",
      " 56%|█████▌    | 5596/10000 [00:08<00:06, 656.89it/s]\n",
      "  8%|▊         | 8/100 [00:01<00:13,  6.95it/s]\n",
      " 56%|█████▌    | 5596/10000 [00:08<00:06, 657.77it/s]\n",
      "  5%|▌         | 5/100 [00:00<00:15,  6.05it/s]\n",
      " 56%|█████▌    | 5596/10000 [00:09<00:07, 593.93it/s]\n",
      " 15%|█▌        | 15/100 [00:02<00:12,  6.60it/s]\n",
      " 56%|█████▌    | 5596/10000 [00:08<00:06, 630.54it/s]\n",
      " 10%|█         | 10/100 [00:01<00:13,  6.79it/s]\n",
      " 56%|█████▌    | 5596/10000 [00:08<00:06, 645.84it/s]\n",
      " 33%|███▎      | 33/100 [00:04<00:09,  7.16it/s]"
     ]
    },
    {
     "name": "stdout",
     "output_type": "stream",
     "text": [
      "[[0.03629979331565244, <auton_survival.models.dsm.DeepSurvivalMachines object at 0x00000261CD3EFC40>], [0.03633710085149897, <auton_survival.models.dsm.DeepSurvivalMachines object at 0x00000261D4D2F460>], [0.03599768577929197, <auton_survival.models.dsm.DeepSurvivalMachines object at 0x00000261CEBEFBB0>], [0.03565210099883334, <auton_survival.models.dsm.DeepSurvivalMachines object at 0x00000261D4D2F040>], [0.03598717387791633, <auton_survival.models.dsm.DeepSurvivalMachines object at 0x00000261D4E1CA60>], [0.036218163766734035, <auton_survival.models.dsm.DeepSurvivalMachines object at 0x00000261D4D4B1C0>], [0.03589392734643434, <auton_survival.models.dsm.DeepSurvivalMachines object at 0x00000261D4E4C700>], [0.03600074198659407, <auton_survival.models.dsm.DeepSurvivalMachines object at 0x00000261D4E471F0>], [0.03575522126433169, <auton_survival.models.dsm.DeepSurvivalMachines object at 0x00000261CEBE50F0>], [0.03583863702088738, <auton_survival.models.dsm.DeepSurvivalMachines object at 0x00000261CEBE5420>], [0.03608700585179737, <auton_survival.models.dsm.DeepSurvivalMachines object at 0x00000261CEBE5450>], [0.0367804417575126, <auton_survival.models.dsm.DeepSurvivalMachines object at 0x00000261CEBE86A0>], [0.036522558300590736, <auton_survival.models.dsm.DeepSurvivalMachines object at 0x00000261D4C60040>], [0.036377659262268075, <auton_survival.models.dsm.DeepSurvivalMachines object at 0x00000261D4E2A7D0>], [0.037141341900745105, <auton_survival.models.dsm.DeepSurvivalMachines object at 0x00000261D4C60070>], [0.03707189601140455, <auton_survival.models.dsm.DeepSurvivalMachines object at 0x00000261D4E17AC0>], [0.03618243583658637, <auton_survival.models.dsm.DeepSurvivalMachines object at 0x00000261D4E2A4A0>], [0.037034351129714344, <auton_survival.models.dsm.DeepSurvivalMachines object at 0x00000261D4C6E410>], [0.03611491490809278, <auton_survival.models.dsm.DeepSurvivalMachines object at 0x00000261D4E2A260>], [0.03598046415071259, <auton_survival.models.dsm.DeepSurvivalMachines object at 0x00000261D4E17CA0>], [0.03623471477495424, <auton_survival.models.dsm.DeepSurvivalMachines object at 0x00000261D4E29EA0>], [0.03630353337522293, <auton_survival.models.dsm.DeepSurvivalMachines object at 0x00000261CEA44790>], [0.03611663521703553, <auton_survival.models.dsm.DeepSurvivalMachines object at 0x00000261CEA451B0>], [0.035830120230844566, <auton_survival.models.dsm.DeepSurvivalMachines object at 0x00000261CEA467D0>], [0.03631045513536159, <auton_survival.models.dsm.DeepSurvivalMachines object at 0x00000261CEA46D40>], [0.03649258252445568, <auton_survival.models.dsm.DeepSurvivalMachines object at 0x00000261CEA446D0>], [0.03697220484840908, <auton_survival.models.dsm.DeepSurvivalMachines object at 0x00000261CEA44280>], [0.036412853292647145, <auton_survival.models.dsm.DeepSurvivalMachines object at 0x00000261CEA44220>], [0.03609601293840174, <auton_survival.models.dsm.DeepSurvivalMachines object at 0x00000261CEA47280>], [0.03671849091317195, <auton_survival.models.dsm.DeepSurvivalMachines object at 0x00000261CEA46D70>], [0.03618558282368625, <auton_survival.models.dsm.DeepSurvivalMachines object at 0x00000261CEA47250>], [0.03595862191687697, <auton_survival.models.dsm.DeepSurvivalMachines object at 0x00000261CEA47340>], [0.03607696009562322, <auton_survival.models.dsm.DeepSurvivalMachines object at 0x00000261CD1203D0>], [0.03625006657443828, <auton_survival.models.dsm.DeepSurvivalMachines object at 0x00000261CEA47CA0>], [0.03599060368280334, <auton_survival.models.dsm.DeepSurvivalMachines object at 0x00000261C16AF7C0>], [0.03600266073328211, <auton_survival.models.dsm.DeepSurvivalMachines object at 0x00000261CEA479A0>], [0.035853934292394724, <auton_survival.models.dsm.DeepSurvivalMachines object at 0x00000261CEA47760>], [0.03580350263454232, <auton_survival.models.dsm.DeepSurvivalMachines object at 0x00000261CD1B31C0>], [0.036158976060799056, <auton_survival.models.dsm.DeepSurvivalMachines object at 0x00000261CD1B2590>], [0.03549895748342184, <auton_survival.models.dsm.DeepSurvivalMachines object at 0x00000261CE5FF9A0>], [0.03560328861221763, <auton_survival.models.dsm.DeepSurvivalMachines object at 0x00000261CE5FEC20>], [0.03629837258543116, <auton_survival.models.dsm.DeepSurvivalMachines object at 0x00000261D4E86FB0>], [0.03559916793265809, <auton_survival.models.dsm.DeepSurvivalMachines object at 0x00000261D4E85D20>], [0.035588827758799194, <auton_survival.models.dsm.DeepSurvivalMachines object at 0x00000261D4E86470>], [0.03571398201584927, <auton_survival.models.dsm.DeepSurvivalMachines object at 0x00000261CE9AFCA0>], [0.03565564221677593, <auton_survival.models.dsm.DeepSurvivalMachines object at 0x00000261CE9AF790>], [0.03555122144669992, <auton_survival.models.dsm.DeepSurvivalMachines object at 0x00000261CE9AFBB0>], [0.03581767123855581, <auton_survival.models.dsm.DeepSurvivalMachines object at 0x00000261CE9AFFA0>], [0.03573181213052222, <auton_survival.models.dsm.DeepSurvivalMachines object at 0x00000261CEA525C0>], [0.03582806282937587, <auton_survival.models.dsm.DeepSurvivalMachines object at 0x00000261BC98DE40>], [0.036962780353254086, <auton_survival.models.dsm.DeepSurvivalMachines object at 0x00000261BC98DC30>], [0.035923300989925765, <auton_survival.models.dsm.DeepSurvivalMachines object at 0x00000261BC98D480>], [0.03600390355558403, <auton_survival.models.dsm.DeepSurvivalMachines object at 0x00000261BC98D5A0>], [0.035930516039785185, <auton_survival.models.dsm.DeepSurvivalMachines object at 0x00000261CEA519C0>], [0.03571443357650912, <auton_survival.models.dsm.DeepSurvivalMachines object at 0x00000261CE9D4C40>], [0.035676934455540446, <auton_survival.models.dsm.DeepSurvivalMachines object at 0x00000261CE9D4D60>], [0.03828076110892953, <auton_survival.models.dsm.DeepSurvivalMachines object at 0x00000261D4F10F40>], [0.035980943763396736, <auton_survival.models.dsm.DeepSurvivalMachines object at 0x00000261D4F118D0>], [0.03593794618163055, <auton_survival.models.dsm.DeepSurvivalMachines object at 0x00000261D4F106A0>], [0.03641246825330579, <auton_survival.models.dsm.DeepSurvivalMachines object at 0x00000261D4F10AC0>], [0.03569584735313224, <auton_survival.models.dsm.DeepSurvivalMachines object at 0x00000261D4F10370>], [0.035742084230133864, <auton_survival.models.dsm.DeepSurvivalMachines object at 0x00000261D4F126E0>], [0.035972383148350724, <auton_survival.models.dsm.DeepSurvivalMachines object at 0x00000261D4F12AD0>], [0.03564994110598904, <auton_survival.models.dsm.DeepSurvivalMachines object at 0x00000261D4F12EC0>], [0.03562567147339563, <auton_survival.models.dsm.DeepSurvivalMachines object at 0x00000261D4F11780>], [0.03585991067018522, <auton_survival.models.dsm.DeepSurvivalMachines object at 0x00000261D4F12D10>], [0.035756469747493164, <auton_survival.models.dsm.DeepSurvivalMachines object at 0x00000261D4F137F0>], [0.035713037108081734, <auton_survival.models.dsm.DeepSurvivalMachines object at 0x00000261D4F13BE0>], [0.037113092708727875, <auton_survival.models.dsm.DeepSurvivalMachines object at 0x00000261D4F13130>], [0.03558740429848738, <auton_survival.models.dsm.DeepSurvivalMachines object at 0x00000261D4F13D00>], [0.03555889884002156, <auton_survival.models.dsm.DeepSurvivalMachines object at 0x00000261D4F13B50>], [0.03574072001097388, <auton_survival.models.dsm.DeepSurvivalMachines object at 0x00000261D4F13C40>]]\n"
     ]
    },
    {
     "name": "stderr",
     "output_type": "stream",
     "text": [
      "\n"
     ]
    },
    {
     "ename": "IndexError",
     "evalue": "invalid index to scalar variable.",
     "output_type": "error",
     "traceback": [
      "\u001b[1;31m---------------------------------------------------------------------------\u001b[0m",
      "\u001b[1;31mIndexError\u001b[0m                                Traceback (most recent call last)",
      "Cell \u001b[1;32mIn[41], line 16\u001b[0m\n\u001b[0;32m     13\u001b[0m \u001b[39mprint\u001b[39m(models)\n\u001b[0;32m     14\u001b[0m best_model_control \u001b[39m=\u001b[39m \u001b[39mmin\u001b[39m(models)\n\u001b[1;32m---> 16\u001b[0m model_control \u001b[39m=\u001b[39m best_model_control[\u001b[39m0\u001b[39;49m][\u001b[39m1\u001b[39;49m]\n",
      "\u001b[1;31mIndexError\u001b[0m: invalid index to scalar variable."
     ]
    }
   ],
   "source": [
    "models_DSM = []\n",
    "for param in params:\n",
    "    model = DeepSurvivalMachines(k = param['k'],\n",
    "                                 distribution = param['distribution'],\n",
    "                                 layers = param['layers'])\n",
    "    # The fit method is called to train the model\n",
    "    model.fit(x_train, t_train, e_train, iters = 100, learning_rate = param['learning_rate'])\n",
    "    temp_pred_DSM = model.predict_survival(x_test, times)\n",
    "    temp_score_DSM = eval_brier(temp_pred_DSM, outcomes_test, times)[1]\n",
    "    models_DSM.append([temp_score_DSM, model])\n",
    "best_model_DSM = min(models_DSM)\n",
    "model_DSM = best_model_DSM[1]"
   ]
  },
  {
   "attachments": {},
   "cell_type": "markdown",
   "metadata": {},
   "source": [
    "# Inference "
   ]
  },
  {
   "cell_type": "code",
   "execution_count": 46,
   "metadata": {},
   "outputs": [],
   "source": [
    "out_risk = model_DSM.predict_risk(x_test, times)\n",
    "out_survival = model_DSM.predict_survival(x_test, times)\n"
   ]
  },
  {
   "attachments": {},
   "cell_type": "markdown",
   "metadata": {},
   "source": [
    "# Evaluation"
   ]
  },
  {
   "cell_type": "code",
   "execution_count": 48,
   "metadata": {},
   "outputs": [],
   "source": [
    "from sksurv.metrics import concordance_index_ipcw, brier_score, cumulative_dynamic_auc"
   ]
  },
  {
   "cell_type": "code",
   "execution_count": 49,
   "metadata": {},
   "outputs": [],
   "source": [
    "def evaluate(predictions,out_risk, outcomes_train, outcomes_test,horizons):\n",
    "\n",
    "    from auton_survival.metrics import survival_regression_metric\n",
    "    from sklearn.metrics import roc_auc_score, brier_score_loss\n",
    "    from sksurv import metrics\n",
    "    from sksurv.util import Surv\n",
    "    from tabulate import tabulate\n",
    "  \n",
    "    test_uncensored_aucs = []\n",
    "    test_uncensored_brs = []\n",
    "    test_uncensored_cis = []\n",
    "    #test_censored_eces = []\n",
    "    test_censored_brs = []\n",
    "    test_censored_auc = []\n",
    "    test_censored_cis = []\n",
    "\n",
    "    from lifelines import KaplanMeierFitter\n",
    "\n",
    "    censoring_outcomes = outcomes_train.copy()\n",
    "   \n",
    "    censoring_outcomes.event = 1-censoring_outcomes.event\n",
    "  \n",
    "    censoring_distribution = KaplanMeierFitter().fit(censoring_outcomes.time,\n",
    "                                                     censoring_outcomes.event)\n",
    "   \n",
    "\n",
    "    for i, horizon in enumerate(horizons):\n",
    "\n",
    "        y_pos = outcomes_test.time>=horizon\n",
    "        y_neg = (outcomes_test.time<horizon)&(outcomes_test.event)\n",
    "    \n",
    "        outcomes_uncensored  = outcomes_test.loc[y_pos|y_neg]\n",
    "\n",
    "        y = np.zeros(len(outcomes_uncensored))\n",
    "\n",
    "        y[outcomes_uncensored.time>=horizon] = 1\n",
    "        y[outcomes_uncensored.time<horizon] = 0\n",
    "\n",
    "    \n",
    "        test_uncensored_aucs.append(roc_auc_score(y, predictions[:, i][y_pos|y_neg]))\n",
    "        test_uncensored_brs.append(brier_score_loss(y, predictions[:, i][y_pos|y_neg]))\n",
    "        #test_censored_eces.append(expected_calibration_error(predictions[:, 1], outcomes_test, horizon))\n",
    "    \n",
    "        et_test_control_uncensored = np.array([(outcomes_uncensored.iloc[i, 1], outcomes_uncensored.iloc[i, 0]) for i in range(len(outcomes_uncensored))],\n",
    "                 dtype = [('e', bool), ('t', float)])\n",
    "    \n",
    "        et_train_control = np.array([(outcomes_train.iloc[i,1], outcomes_train.iloc[i,0]) for i in range(len(outcomes_train))],\n",
    "                 dtype = [('e', bool), ('t', float)])\n",
    "        \n",
    "        et_test_control_censored = np.array([(outcomes_test.iloc[i, 1], outcomes_test.iloc[i, 0]) for i in range(len(outcomes_test))],\n",
    "                 dtype = [('e', bool), ('t', float)])\n",
    "\n",
    "\n",
    "        outcomes_uncensored  = outcomes_test.loc[y_pos|y_neg]\n",
    "        out_risk_uncensored = out_risk[y_pos|y_neg]\n",
    "\n",
    "        test_uncensored_cis.append(concordance_index_ipcw(et_train_control, et_test_control_uncensored, out_risk_uncensored[:,i], horizons[i])[0])\n",
    "        \n",
    "        weights = np.ones(outcomes_uncensored.shape[0])\n",
    "        weights = censoring_distribution.predict(outcomes_uncensored.time.values)\n",
    "        weights[outcomes_uncensored.time.values>=horizon] = censoring_distribution.predict(horizon)\n",
    "\n",
    "        weights = 1./np.clip(weights, 1e-3, 1-1e-3)\n",
    "\n",
    "        test_censored_auc.append(roc_auc_score(y, predictions[:, i][y_pos|y_neg], sample_weight=weights))                \n",
    "        test_censored_brs.append(brier_score_loss(y, predictions[:, i][y_pos|y_neg], sample_weight=weights))\n",
    "        test_censored_cis.append(concordance_index_ipcw(et_train_control, et_test_control_censored,out_risk[:,i], horizons[i])[0])\n",
    "    # from auton_survival.metrics import survival_regression_metric\n",
    "\n",
    "    # test_censored_brs = survival_regression_metric('brs', outcomes['test'], predictions['TEST'], horizons, outcomes['train'])\n",
    "    # test_censored_auc = survival_regression_metric('auc', outcomes['test'], predictions['TEST'], horizons, outcomes['train'])\n",
    "\n",
    "    to_print = []\n",
    "    to_print.append(['TEST FOLD PERFORMANCE'])\n",
    "    to_print.append([\"BR on Uncensored Data:\"] + test_uncensored_brs)\n",
    "    to_print.append([\"AUC on Uncensored Data:\"] + test_uncensored_aucs)\n",
    "    to_print.append([\"C-index on Uncensored Data:\"] + test_uncensored_cis)\n",
    "\n",
    "    to_print.append([\"Censoring Adjusted Brier Score:\"] + list(test_censored_brs))\n",
    "    to_print.append([\"Censoring Adjusted AUC:\"] + list(test_censored_auc))\n",
    "    #to_print.append([\"Censoring Adjusted ECE:\"] + list(test_censored_eces))\n",
    "    to_print.append([\"Censoring Adjusted C-index:\"] + list(test_censored_cis))\n",
    "\n",
    "    # to_print.append(['TRAIN FOLD PERFORMANCE'])\n",
    "    # train_censored_brs = metrics.brier_score(survival_train, survival_train, logistic(predictions['TRAIN']), horizons)[-1]\n",
    "    # train_censored_auc = metrics.cumulative_dynamic_auc(survival_train, survival_train, 1-logistic(predictions['TRAIN']), horizons)[0]\n",
    "    # to_print.append([\"Censoring Adjusted Brier Score:\"] + list(train_censored_brs))\n",
    "    # to_print.append([\"Censoring Adjusted AUC:\"] + list(train_censored_auc))\n",
    "\n",
    "    print(tabulate(to_print, headers=[\"METRIC\"]+horizons))"
   ]
  },
  {
   "cell_type": "code",
   "execution_count": 50,
   "metadata": {},
   "outputs": [
    {
     "name": "stdout",
     "output_type": "stream",
     "text": [
      "METRIC                               365.0      730.0     1825.0\n",
      "-------------------------------  ---------  ---------  ---------\n",
      "TEST FOLD PERFORMANCE\n",
      "BR on Uncensored Data:           0.0191821  0.035499   0.262331\n",
      "AUC on Uncensored Data:          0.705225   0.682114   0.62905\n",
      "C-index on Uncensored Data:      0.702797   0.678892   0.617007\n",
      "Censoring Adjusted Brier Score:  0.0190674  0.0351439  0.0881924\n",
      "Censoring Adjusted AUC:          0.70561    0.682163   0.627595\n",
      "Censoring Adjusted C-index:      0.702618   0.67858    0.657847\n"
     ]
    }
   ],
   "source": [
    "# n = len(train)\n",
    "\n",
    "# tr_size = int(n*0.50)\n",
    "# vl_size = int(n*0.20)\n",
    "# te_size = int(n*0.30)\n",
    "\n",
    "# train =  pd.concat([outcomes_control.iloc[:tr_size], outcomes_treatment.iloc[:tr_size]])\n",
    "# test = pd.concat([outcomes_control.iloc[-te_size:], outcomes_treatment.iloc[-te_size:]])\n",
    "train =  pd.concat([outcomes_control.iloc[:len(t_train_control)], outcomes_treatment.iloc[:len(t_train_treatment)]])\n",
    "test = pd.concat([outcomes_control.iloc[-len(t_test_control):], outcomes_treatment.iloc[-len(t_test_treatment):]])\n",
    "\n",
    "\n",
    "#when evaluating, pass the outcomes into evaluate()\n",
    "#pass both out_survival and out_risk\n",
    "print('DSM')\n",
    "evaluate(out_survival,out_risk,train, test,times) \n"
   ]
  },
  {
   "attachments": {},
   "cell_type": "markdown",
   "metadata": {},
   "source": [
    "# DCM"
   ]
  },
  {
   "cell_type": "code",
   "execution_count": 19,
   "metadata": {},
   "outputs": [
    {
     "name": "stderr",
     "output_type": "stream",
     "text": [
      "100%|██████████| 20/20 [00:03<00:00,  6.42it/s]\n"
     ]
    },
    {
     "data": {
      "text/plain": [
       "<auton_survival.models.dcm.DeepCoxMixtures at 0x2029fc40310>"
      ]
     },
     "execution_count": 19,
     "metadata": {},
     "output_type": "execute_result"
    }
   ],
   "source": [
    "from auton_survival.models.dcm import DeepCoxMixtures\n",
    "from auton_survival.models.dcm.dcm_utilities import *\n",
    "model_DCM = DeepCoxMixtures()\n",
    "model_DCM.fit(x_train, t_train, e_train, val_data=(x_val,t_val, e_val),\\\n",
    "         iters = 20, learning_rate = 1e-4, batch_size=120,optimizer = 'SGD')"
   ]
  },
  {
   "cell_type": "code",
   "execution_count": 20,
   "metadata": {},
   "outputs": [],
   "source": [
    "out_survival = model_DCM.predict_survival(x_test,times)\n",
    "out_risk = 1-out_survival"
   ]
  },
  {
   "cell_type": "code",
   "execution_count": 21,
   "metadata": {},
   "outputs": [
    {
     "name": "stdout",
     "output_type": "stream",
     "text": [
      "METRIC                               365.0      730.0     1825.0\n",
      "-------------------------------  ---------  ---------  ---------\n",
      "TEST FOLD PERFORMANCE\n",
      "BR on Uncensored Data:           0.019323   0.0358222  0.266921\n",
      "AUC on Uncensored Data:          0.664252   0.630887   0.560227\n",
      "C-index on Uncensored Data:      0.662255   0.628319   0.54883\n",
      "Censoring Adjusted Brier Score:  0.0192059  0.0354565  0.0902999\n",
      "Censoring Adjusted AUC:          0.664613   0.63085    0.554984\n",
      "Censoring Adjusted C-index:      0.662236   0.628031   0.610961\n"
     ]
    }
   ],
   "source": [
    "print('DCM')\n",
    "evaluate(out_survival,out_risk,train, test,times) \n"
   ]
  },
  {
   "attachments": {},
   "cell_type": "markdown",
   "metadata": {},
   "source": [
    "# CPH"
   ]
  },
  {
   "cell_type": "code",
   "execution_count": 51,
   "metadata": {},
   "outputs": [],
   "source": [
    "x_control, y_control = features_control, outcomes_control\n",
    "\n",
    "n = len(x_control)\n",
    "\n",
    "tr_size = int(n*0.50)\n",
    "vl_size = int(n*0.20)\n",
    "te_size = int(n*0.30)\n",
    "\n",
    "x_train_control, x_test_control, x_val_control = x_control.iloc[:tr_size], x_control.iloc[-te_size:], x_control.iloc[tr_size:tr_size+vl_size]\n",
    "y_train_control, y_test_control, y_val_control = y_control.iloc[:tr_size], y_control.iloc[-te_size:], y_control.iloc[tr_size:tr_size+vl_size]\n"
   ]
  },
  {
   "cell_type": "code",
   "execution_count": 52,
   "metadata": {},
   "outputs": [],
   "source": [
    "x_treatment, y_treatment = features_treatment, outcomes_treatment\n",
    "\n",
    "n = len(x_treatment)\n",
    "\n",
    "tr_size = int(n*0.50)\n",
    "vl_size = int(n*0.20)\n",
    "te_size = int(n*0.30)\n",
    "\n",
    "x_train_treatment, x_test_treatment, x_val_treatment = x_treatment.iloc[:tr_size], x_treatment.iloc[-te_size:], x_treatment.iloc[tr_size:tr_size+vl_size]\n",
    "y_train_treatment, y_test_treatment, y_val_treatment = y_treatment.iloc[:tr_size], y_treatment.iloc[-te_size:], y_treatment.iloc[tr_size:tr_size+vl_size]\n"
   ]
  },
  {
   "cell_type": "code",
   "execution_count": 53,
   "metadata": {},
   "outputs": [
    {
     "name": "stdout",
     "output_type": "stream",
     "text": [
      "(2639, 41) (1583, 41) (1054, 41)\n"
     ]
    }
   ],
   "source": [
    "x_train = pd.concat((x_train_control, x_train_treatment), axis=0)\n",
    "x_test = pd.concat((x_test_control, x_test_treatment), axis=0)\n",
    "x_val = pd.concat((x_val_control, x_val_treatment), axis=0)\n",
    "\n",
    "y_train = pd.concat((y_train_control, y_train_treatment), axis=0)\n",
    "y_test = pd.concat((y_test_control, y_test_treatment), axis=0)\n",
    "y_val = pd.concat((y_val_control, y_val_treatment), axis=0)\n",
    "\n",
    "\n",
    "print(x_train.shape, x_test.shape, x_val.shape)\n"
   ]
  },
  {
   "cell_type": "code",
   "execution_count": 54,
   "metadata": {},
   "outputs": [],
   "source": [
    "param_grid_CPH = {'l2' : [1e-3, 1e-4]}\n",
    "params = ParameterGrid(param_grid_CPH)"
   ]
  },
  {
   "cell_type": "code",
   "execution_count": 55,
   "metadata": {},
   "outputs": [],
   "source": [
    "from auton_survival.estimators import SurvivalModel\n",
    "from auton_survival.metrics import survival_regression_metric\n",
    "models_cph = []\n",
    "for param in params:\n",
    "    model = SurvivalModel('cph', random_seed=2, l2=param['l2'])\n",
    "\n",
    "    # The fit method is called to train the model\n",
    "    model.fit(x_train, y_train)\n",
    "\n",
    "    # Obtain survival probabilities for validation set and compute the Integrated Brier Score\n",
    "    predictions_val = model.predict_survival(x_val, times)\n",
    "  \n",
    "    metric_val = survival_regression_metric('ibs', y_val, predictions_val, times, y_train)\n",
    "    models_cph.append([metric_val, model])\n",
    "\n",
    "# Select the best model based on the mean metric value computed for the validation set\n",
    "metric_vals = [i[0] for i in models_cph]\n",
    "first_min_idx = metric_vals.index(min(metric_vals))\n",
    "model_cph = models_cph[first_min_idx][1]"
   ]
  },
  {
   "cell_type": "code",
   "execution_count": 56,
   "metadata": {},
   "outputs": [],
   "source": [
    "out_survival_cph = model_cph.predict_survival(x_test, times)\n",
    "out_risk_cph = 1-out_survival_cph"
   ]
  },
  {
   "cell_type": "code",
   "execution_count": 57,
   "metadata": {},
   "outputs": [
    {
     "name": "stdout",
     "output_type": "stream",
     "text": [
      "METRIC                               365.0      730.0     1825.0\n",
      "-------------------------------  ---------  ---------  ---------\n",
      "TEST FOLD PERFORMANCE\n",
      "BR on Uncensored Data:           0.0193108  0.0357163  0.259202\n",
      "AUC on Uncensored Data:          0.678427   0.673095   0.636334\n",
      "C-index on Uncensored Data:      0.676591   0.669858   0.612999\n",
      "Censoring Adjusted Brier Score:  0.0191958  0.0353604  0.0916823\n",
      "Censoring Adjusted AUC:          0.678702   0.673208   0.632953\n",
      "Censoring Adjusted C-index:      0.676882   0.669907   0.65391\n"
     ]
    }
   ],
   "source": [
    "#when evaluating, pass the outcomes into evaluate()\n",
    "#pass both out_survival and out_risk\n",
    "print('CPH')\n",
    "evaluate(out_survival_cph,out_risk_cph,train, test,times) \n"
   ]
  },
  {
   "attachments": {},
   "cell_type": "markdown",
   "metadata": {},
   "source": [
    "# RSF"
   ]
  },
  {
   "cell_type": "code",
   "execution_count": 36,
   "metadata": {},
   "outputs": [
    {
     "name": "stdout",
     "output_type": "stream",
     "text": [
      "[[0.97211853 0.94504253 0.86859415]\n",
      " [0.97992076 0.96532312 0.91773728]\n",
      " [0.97761007 0.96056173 0.90254057]\n",
      " ...\n",
      " [0.97586511 0.94665307 0.87451009]\n",
      " [0.97858015 0.95838922 0.90133151]\n",
      " [0.97542622 0.95206743 0.88710458]] predictmval\n",
      "[[0.97254279 0.94519397 0.87102253]\n",
      " [0.98062445 0.96594313 0.92007644]\n",
      " [0.97834742 0.96111197 0.90456746]\n",
      " ...\n",
      " [0.97330406 0.94705956 0.87415674]\n",
      " [0.97944104 0.96042514 0.90227997]\n",
      " [0.97482008 0.95101464 0.88345504]] predictmval\n",
      "[[0.97259721 0.94808132 0.87722816]\n",
      " [0.97934947 0.96393618 0.91608664]\n",
      " [0.97893029 0.9619882  0.90972807]\n",
      " ...\n",
      " [0.97334185 0.94789743 0.87224302]\n",
      " [0.97864213 0.96088357 0.90283617]\n",
      " [0.97507646 0.95302678 0.88686549]] predictmval\n",
      "[[0.97338038 0.94706994 0.87675115]\n",
      " [0.98059144 0.96576998 0.91918691]\n",
      " [0.97837743 0.9613772  0.90633693]\n",
      " ...\n",
      " [0.97241958 0.94480666 0.864588  ]\n",
      " [0.97884899 0.96051772 0.90076857]\n",
      " [0.97477538 0.95143796 0.88354042]] predictmval\n",
      "[[0.96970161 0.94272866 0.87165743]\n",
      " [0.98144713 0.96918951 0.92862557]\n",
      " [0.97874527 0.9634561  0.9112353 ]\n",
      " ...\n",
      " [0.97367884 0.9520893  0.87438633]\n",
      " [0.98215504 0.96528192 0.91403553]\n",
      " [0.97836036 0.95680444 0.89257883]] predictmval\n",
      "[[0.97354378 0.94684491 0.87352623]\n",
      " [0.98321775 0.9711703  0.93228181]\n",
      " [0.97968713 0.96452293 0.91126032]\n",
      " ...\n",
      " [0.96958538 0.94152416 0.86184758]\n",
      " [0.98211108 0.96524829 0.91292602]\n",
      " [0.97782488 0.95471397 0.89078378]] predictmval\n",
      "[[0.97181828 0.94687162 0.87496609]\n",
      " [0.98175427 0.96893359 0.92797396]\n",
      " [0.97856027 0.96359568 0.91298957]\n",
      " ...\n",
      " [0.96745591 0.93858427 0.85856317]\n",
      " [0.97972474 0.96393676 0.90639421]\n",
      " [0.97649752 0.95546184 0.89363406]] predictmval\n",
      "[[0.97060435 0.9414956  0.86385388]\n",
      " [0.98336923 0.97123452 0.93242272]\n",
      " [0.97984707 0.96527349 0.91298   ]\n",
      " ...\n",
      " [0.97089056 0.93568822 0.84604197]\n",
      " [0.98106459 0.96496363 0.90798204]\n",
      " [0.97849869 0.95771359 0.8976162 ]] predictmval\n"
     ]
    }
   ],
   "source": [
    "param_grid_RSF = {'n_estimators' : [100, 300],\n",
    "              'max_depth' : [3, 5],\n",
    "              'max_features' : ['sqrt', 'log2']}\n",
    "params_RSF = ParameterGrid(param_grid_RSF)\n",
    "models_RSF = []\n",
    "for param in params_RSF:\n",
    "    model = SurvivalModel('rsf', random_seed=2, n_estimators=param['n_estimators'], max_depth=param['max_depth'], max_features=param['max_features'])\n",
    "    model.fit(x_train, y_train)\n",
    "    predictions_val = model.predict_survival(x_val, times)\n",
    "    # print(predictions_val,'predictmval')\n",
    "    metric_val = survival_regression_metric('ibs', y_val, predictions_val, times, y_train)\n",
    "    models_RSF.append([metric_val, model])\n",
    "metric_vals = [i[0] for i in models_RSF]\n",
    "first_min_idx = metric_vals.index(min(metric_vals))\n",
    "model = models_RSF[first_min_idx][1]"
   ]
  },
  {
   "cell_type": "code",
   "execution_count": 37,
   "metadata": {},
   "outputs": [
    {
     "name": "stdout",
     "output_type": "stream",
     "text": [
      "METRIC                               365.0      730.0     1825.0\n",
      "-------------------------------  ---------  ---------  ---------\n",
      "TEST FOLD PERFORMANCE\n",
      "BR on Uncensored Data:           0.0193108  0.0357163  0.259202\n",
      "AUC on Uncensored Data:          0.678427   0.673095   0.636334\n",
      "C-index on Uncensored Data:      0.676591   0.669858   0.612999\n",
      "Censoring Adjusted Brier Score:  0.0191958  0.0353604  0.0916823\n",
      "Censoring Adjusted AUC:          0.678702   0.673208   0.632953\n",
      "Censoring Adjusted C-index:      0.676882   0.669907   0.65391\n"
     ]
    }
   ],
   "source": [
    "out_survival_RSF = model.predict_survival(x_test, times)\n",
    "out_risk_RSF = 1-out_survival_RSF\n",
    "print('RSF')\n",
    "evaluate(out_survival_cph,out_risk_cph,train, test,times) "
   ]
  }
 ],
 "metadata": {
  "kernelspec": {
   "display_name": "Python 3",
   "language": "python",
   "name": "python3"
  },
  "language_info": {
   "codemirror_mode": {
    "name": "ipython",
    "version": 3
   },
   "file_extension": ".py",
   "mimetype": "text/x-python",
   "name": "python",
   "nbconvert_exporter": "python",
   "pygments_lexer": "ipython3",
   "version": "3.10.9"
  },
  "orig_nbformat": 4
 },
 "nbformat": 4,
 "nbformat_minor": 2
}
