{
 "cells": [
  {
   "cell_type": "markdown",
   "source": [
    "# Dataset Process\n",
    "## Hypertension(Blood Pressure)\n",
    "### Make sure to change the data directory in dev_dataset.py to your own ACCORD data directory"
   ],
   "metadata": {
    "collapsed": false
   }
  },
  {
   "cell_type": "code",
   "execution_count": 1,
   "outputs": [
    {
     "name": "stdout",
     "output_type": "stream",
     "text": [
      "RELOADING THE DATASET!!!!!\n",
      "intervenstion in load_accord dataset BP\n",
      "No Features Specified!! using default baseline features.\n",
      "(10251, 5)\n",
      "(10205, 3)\n",
      "(10251, 18)\n",
      "(10197, 5)\n",
      "(10240, 9)\n",
      "ACCORD-Hypertension\n"
     ]
    }
   ],
   "source": [
    "import os\n",
    "import sys\n",
    "import pandas as pd\n",
    "#sys.path.append('./')\n",
    "#sys.path.append('/Users/yushiqiu/Documents/surv-rcts')\n",
    "#dataset = os.system('python3 /Users/yushiqiu/Documents/surv-rcts/dev/dev_dataset.py')\n",
    "import dev.dev_dataset as dev\n",
    "dataset=dev.dataset\n"
   ],
   "metadata": {
    "collapsed": false
   }
  },
  {
   "cell_type": "code",
   "execution_count": 2,
   "outputs": [],
   "source": [
    "from auton_survival.preprocessing import Preprocessor\n",
    "features = Preprocessor().fit_transform(dataset.covariates, cat_feats=dataset.cat_features, num_feats=dataset.num_features)"
   ],
   "metadata": {
    "collapsed": false
   }
  },
  {
   "cell_type": "code",
   "execution_count": 3,
   "metadata": {},
   "outputs": [],
   "source": [
    "a = dataset._interventions\n",
    "b = a['Main Study']\n"
   ]
  },
  {
   "cell_type": "code",
   "execution_count": 6,
   "metadata": {},
   "outputs": [],
   "source": [
    "index_control = b.loc[b ==dataset.control_arm].index\n",
    "index_treatment = b.loc[b==dataset.treatment_arm].index\n",
    "control_covariate = dataset.covariates.loc[index_control]\n",
    "treatment_covariate = dataset.covariates.loc[index_treatment]"
   ]
  },
  {
   "cell_type": "code",
   "execution_count": 7,
   "metadata": {},
   "outputs": [
    {
     "data": {
      "text/plain": "         Baseline_History_Myocardial_Infarction Baseline_History_Stroke  \\\nMaskID                                                                    \n109144.0                                     No                      No   \n106495.0                                    Yes                      No   \n108531.0                                     No                      No   \n107697.0                                     No                      No   \n100233.0                                     No                      No   \n...                                         ...                     ...   \n105942.0                                     No                      No   \n101682.0                                     No                      No   \n109775.0                                     No                     Yes   \n102460.0                                     No                      No   \n103850.0                                     No                      No   \n\n         Baseline_History_Angina  \\\nMaskID                             \n109144.0                      No   \n106495.0                     Yes   \n108531.0                      No   \n107697.0                      No   \n100233.0                     Yes   \n...                          ...   \n105942.0                      No   \n101682.0                      No   \n109775.0                      No   \n102460.0                     Yes   \n103850.0                      No   \n\n         Baseline_History_Coronary_Artery_Bypass_Graft  \\\nMaskID                                                   \n109144.0                                           Yes   \n106495.0                                            No   \n108531.0                                            No   \n107697.0                                            No   \n100233.0                                           Yes   \n...                                                ...   \n105942.0                                            No   \n101682.0                                            No   \n109775.0                                            No   \n102460.0                                            No   \n103850.0                                            No   \n\n         Baseline_History_Percutaneous_Coronary_Intervention  \\\nMaskID                                                         \n109144.0                                                 No    \n106495.0                                                 No    \n108531.0                                                 No    \n107697.0                                                 No    \n100233.0                                                 No    \n...                                                     ...    \n105942.0                                                 No    \n101682.0                                                 No    \n109775.0                                                 No    \n102460.0                                                 No    \n103850.0                                                 No    \n\n         Baseline_History_Cardiovascular_Disease  \\\nMaskID                                             \n109144.0                                     Yes   \n106495.0                                     Yes   \n108531.0                                      No   \n107697.0                                      No   \n100233.0                                     Yes   \n...                                          ...   \n105942.0                                      No   \n101682.0                                      No   \n109775.0                                     Yes   \n102460.0                                     Yes   \n103850.0                                      No   \n\n         Baseline_Prior_revascularization Baseline_Lipid_Lowering_Therapy  \\\nMaskID                                                                      \n109144.0                               No                              No   \n106495.0                               No                              No   \n108531.0                               No                             Yes   \n107697.0                               No                             Yes   \n100233.0                               No                             Yes   \n...                                   ...                             ...   \n105942.0                               No                             Yes   \n101682.0                               No                              No   \n109775.0                               No                              No   \n102460.0                               No                             Yes   \n103850.0                               No                             Yes   \n\n         Baseline_Smoke_status Baseline_On_Blood_Pressure_Medication  ...  \\\nMaskID                                                                ...   \n109144.0                    No                                    No  ...   \n106495.0                    No                                   Yes  ...   \n108531.0                    No                                   Yes  ...   \n107697.0                   Yes                                   Yes  ...   \n100233.0                    No                                   Yes  ...   \n...                        ...                                   ...  ...   \n105942.0                    No                                   Yes  ...   \n101682.0                    No                                   Yes  ...   \n109775.0                    No                                   Yes  ...   \n102460.0                    No                                   Yes  ...   \n103850.0                    No                                   Yes  ...   \n\n         Baseline_Fasting_Plasma_Glucose Baseline_Alanine_Transaminase  \\\nMaskID                                                                   \n109144.0                           153.0                          12.0   \n106495.0                           309.0                          29.0   \n108531.0                           194.0                          49.0   \n107697.0                           172.0                          25.0   \n100233.0                           160.0                          15.0   \n...                                  ...                           ...   \n105942.0                           176.0                          41.0   \n101682.0                           201.0                          17.0   \n109775.0                           291.0                          41.0   \n102460.0                           234.0                          28.0   \n103850.0                           241.0                          48.0   \n\n         Baseline_Creatine_Phosphokinase Baseline_Serum_creatinine  \\\nMaskID                                                               \n109144.0                            72.0                       0.8   \n106495.0                            43.0                       1.0   \n108531.0                            93.0                       0.7   \n107697.0                           270.0                       1.2   \n100233.0                            82.0                       1.0   \n...                                  ...                       ...   \n105942.0                           170.0                       1.3   \n101682.0                            50.0                       0.8   \n109775.0                           156.0                       0.9   \n102460.0                            92.0                       0.8   \n103850.0                           217.0                       0.8   \n\n         Baseline_Estimated_Glomerular_Filtration_Rate Baseline_Urine_albumin  \\\nMaskID                                                                          \n109144.0                                          99.7                   0.22   \n106495.0                                          79.7                   3.42   \n108531.0                                          91.3                   0.85   \n107697.0                                          80.4                   3.27   \n100233.0                                          80.7                   2.58   \n...                                                ...                    ...   \n105942.0                                          44.4                   1.66   \n101682.0                                          75.7                   1.57   \n109775.0                                          90.7                   0.83   \n102460.0                                          78.2                   1.55   \n103850.0                                          77.6                   0.23   \n\n         Baseline_Urine_albumin/creatinine_ratio Baseline_Urine_creatinine  \\\nMaskID                                                                       \n109144.0                                     NaN                     0.305   \n106495.0                                     4.0                     0.853   \n108531.0                                     1.1                     0.754   \n107697.0                                     1.6                     2.109   \n100233.0                                     1.5                     1.748   \n...                                          ...                       ...   \n105942.0                                     1.5                     1.092   \n101682.0                                     1.3                     1.210   \n109775.0                                     1.0                     0.794   \n102460.0                                     0.9                     1.637   \n103850.0                                     NaN                     0.153   \n\n         Baseline_LDL_Cholesterol Baseline_HDL_Cholesterol  \nMaskID                                                      \n109144.0                     77.0                     64.0  \n106495.0                    135.0                     67.0  \n108531.0                     68.0                     52.0  \n107697.0                     99.0                     42.0  \n100233.0                     72.0                     45.0  \n...                           ...                      ...  \n105942.0                    174.0                     38.0  \n101682.0                     99.0                     34.0  \n109775.0                     89.0                     28.0  \n102460.0                    110.0                     44.0  \n103850.0                    136.0                     67.0  \n\n[2271 rows x 39 columns]",
      "text/html": "<div>\n<style scoped>\n    .dataframe tbody tr th:only-of-type {\n        vertical-align: middle;\n    }\n\n    .dataframe tbody tr th {\n        vertical-align: top;\n    }\n\n    .dataframe thead th {\n        text-align: right;\n    }\n</style>\n<table border=\"1\" class=\"dataframe\">\n  <thead>\n    <tr style=\"text-align: right;\">\n      <th></th>\n      <th>Baseline_History_Myocardial_Infarction</th>\n      <th>Baseline_History_Stroke</th>\n      <th>Baseline_History_Angina</th>\n      <th>Baseline_History_Coronary_Artery_Bypass_Graft</th>\n      <th>Baseline_History_Percutaneous_Coronary_Intervention</th>\n      <th>Baseline_History_Cardiovascular_Disease</th>\n      <th>Baseline_Prior_revascularization</th>\n      <th>Baseline_Lipid_Lowering_Therapy</th>\n      <th>Baseline_Smoke_status</th>\n      <th>Baseline_On_Blood_Pressure_Medication</th>\n      <th>...</th>\n      <th>Baseline_Fasting_Plasma_Glucose</th>\n      <th>Baseline_Alanine_Transaminase</th>\n      <th>Baseline_Creatine_Phosphokinase</th>\n      <th>Baseline_Serum_creatinine</th>\n      <th>Baseline_Estimated_Glomerular_Filtration_Rate</th>\n      <th>Baseline_Urine_albumin</th>\n      <th>Baseline_Urine_albumin/creatinine_ratio</th>\n      <th>Baseline_Urine_creatinine</th>\n      <th>Baseline_LDL_Cholesterol</th>\n      <th>Baseline_HDL_Cholesterol</th>\n    </tr>\n    <tr>\n      <th>MaskID</th>\n      <th></th>\n      <th></th>\n      <th></th>\n      <th></th>\n      <th></th>\n      <th></th>\n      <th></th>\n      <th></th>\n      <th></th>\n      <th></th>\n      <th></th>\n      <th></th>\n      <th></th>\n      <th></th>\n      <th></th>\n      <th></th>\n      <th></th>\n      <th></th>\n      <th></th>\n      <th></th>\n      <th></th>\n    </tr>\n  </thead>\n  <tbody>\n    <tr>\n      <th>109144.0</th>\n      <td>No</td>\n      <td>No</td>\n      <td>No</td>\n      <td>Yes</td>\n      <td>No</td>\n      <td>Yes</td>\n      <td>No</td>\n      <td>No</td>\n      <td>No</td>\n      <td>No</td>\n      <td>...</td>\n      <td>153.0</td>\n      <td>12.0</td>\n      <td>72.0</td>\n      <td>0.8</td>\n      <td>99.7</td>\n      <td>0.22</td>\n      <td>NaN</td>\n      <td>0.305</td>\n      <td>77.0</td>\n      <td>64.0</td>\n    </tr>\n    <tr>\n      <th>106495.0</th>\n      <td>Yes</td>\n      <td>No</td>\n      <td>Yes</td>\n      <td>No</td>\n      <td>No</td>\n      <td>Yes</td>\n      <td>No</td>\n      <td>No</td>\n      <td>No</td>\n      <td>Yes</td>\n      <td>...</td>\n      <td>309.0</td>\n      <td>29.0</td>\n      <td>43.0</td>\n      <td>1.0</td>\n      <td>79.7</td>\n      <td>3.42</td>\n      <td>4.0</td>\n      <td>0.853</td>\n      <td>135.0</td>\n      <td>67.0</td>\n    </tr>\n    <tr>\n      <th>108531.0</th>\n      <td>No</td>\n      <td>No</td>\n      <td>No</td>\n      <td>No</td>\n      <td>No</td>\n      <td>No</td>\n      <td>No</td>\n      <td>Yes</td>\n      <td>No</td>\n      <td>Yes</td>\n      <td>...</td>\n      <td>194.0</td>\n      <td>49.0</td>\n      <td>93.0</td>\n      <td>0.7</td>\n      <td>91.3</td>\n      <td>0.85</td>\n      <td>1.1</td>\n      <td>0.754</td>\n      <td>68.0</td>\n      <td>52.0</td>\n    </tr>\n    <tr>\n      <th>107697.0</th>\n      <td>No</td>\n      <td>No</td>\n      <td>No</td>\n      <td>No</td>\n      <td>No</td>\n      <td>No</td>\n      <td>No</td>\n      <td>Yes</td>\n      <td>Yes</td>\n      <td>Yes</td>\n      <td>...</td>\n      <td>172.0</td>\n      <td>25.0</td>\n      <td>270.0</td>\n      <td>1.2</td>\n      <td>80.4</td>\n      <td>3.27</td>\n      <td>1.6</td>\n      <td>2.109</td>\n      <td>99.0</td>\n      <td>42.0</td>\n    </tr>\n    <tr>\n      <th>100233.0</th>\n      <td>No</td>\n      <td>No</td>\n      <td>Yes</td>\n      <td>Yes</td>\n      <td>No</td>\n      <td>Yes</td>\n      <td>No</td>\n      <td>Yes</td>\n      <td>No</td>\n      <td>Yes</td>\n      <td>...</td>\n      <td>160.0</td>\n      <td>15.0</td>\n      <td>82.0</td>\n      <td>1.0</td>\n      <td>80.7</td>\n      <td>2.58</td>\n      <td>1.5</td>\n      <td>1.748</td>\n      <td>72.0</td>\n      <td>45.0</td>\n    </tr>\n    <tr>\n      <th>...</th>\n      <td>...</td>\n      <td>...</td>\n      <td>...</td>\n      <td>...</td>\n      <td>...</td>\n      <td>...</td>\n      <td>...</td>\n      <td>...</td>\n      <td>...</td>\n      <td>...</td>\n      <td>...</td>\n      <td>...</td>\n      <td>...</td>\n      <td>...</td>\n      <td>...</td>\n      <td>...</td>\n      <td>...</td>\n      <td>...</td>\n      <td>...</td>\n      <td>...</td>\n      <td>...</td>\n    </tr>\n    <tr>\n      <th>105942.0</th>\n      <td>No</td>\n      <td>No</td>\n      <td>No</td>\n      <td>No</td>\n      <td>No</td>\n      <td>No</td>\n      <td>No</td>\n      <td>Yes</td>\n      <td>No</td>\n      <td>Yes</td>\n      <td>...</td>\n      <td>176.0</td>\n      <td>41.0</td>\n      <td>170.0</td>\n      <td>1.3</td>\n      <td>44.4</td>\n      <td>1.66</td>\n      <td>1.5</td>\n      <td>1.092</td>\n      <td>174.0</td>\n      <td>38.0</td>\n    </tr>\n    <tr>\n      <th>101682.0</th>\n      <td>No</td>\n      <td>No</td>\n      <td>No</td>\n      <td>No</td>\n      <td>No</td>\n      <td>No</td>\n      <td>No</td>\n      <td>No</td>\n      <td>No</td>\n      <td>Yes</td>\n      <td>...</td>\n      <td>201.0</td>\n      <td>17.0</td>\n      <td>50.0</td>\n      <td>0.8</td>\n      <td>75.7</td>\n      <td>1.57</td>\n      <td>1.3</td>\n      <td>1.210</td>\n      <td>99.0</td>\n      <td>34.0</td>\n    </tr>\n    <tr>\n      <th>109775.0</th>\n      <td>No</td>\n      <td>Yes</td>\n      <td>No</td>\n      <td>No</td>\n      <td>No</td>\n      <td>Yes</td>\n      <td>No</td>\n      <td>No</td>\n      <td>No</td>\n      <td>Yes</td>\n      <td>...</td>\n      <td>291.0</td>\n      <td>41.0</td>\n      <td>156.0</td>\n      <td>0.9</td>\n      <td>90.7</td>\n      <td>0.83</td>\n      <td>1.0</td>\n      <td>0.794</td>\n      <td>89.0</td>\n      <td>28.0</td>\n    </tr>\n    <tr>\n      <th>102460.0</th>\n      <td>No</td>\n      <td>No</td>\n      <td>Yes</td>\n      <td>No</td>\n      <td>No</td>\n      <td>Yes</td>\n      <td>No</td>\n      <td>Yes</td>\n      <td>No</td>\n      <td>Yes</td>\n      <td>...</td>\n      <td>234.0</td>\n      <td>28.0</td>\n      <td>92.0</td>\n      <td>0.8</td>\n      <td>78.2</td>\n      <td>1.55</td>\n      <td>0.9</td>\n      <td>1.637</td>\n      <td>110.0</td>\n      <td>44.0</td>\n    </tr>\n    <tr>\n      <th>103850.0</th>\n      <td>No</td>\n      <td>No</td>\n      <td>No</td>\n      <td>No</td>\n      <td>No</td>\n      <td>No</td>\n      <td>No</td>\n      <td>Yes</td>\n      <td>No</td>\n      <td>Yes</td>\n      <td>...</td>\n      <td>241.0</td>\n      <td>48.0</td>\n      <td>217.0</td>\n      <td>0.8</td>\n      <td>77.6</td>\n      <td>0.23</td>\n      <td>NaN</td>\n      <td>0.153</td>\n      <td>136.0</td>\n      <td>67.0</td>\n    </tr>\n  </tbody>\n</table>\n<p>2271 rows × 39 columns</p>\n</div>"
     },
     "execution_count": 7,
     "metadata": {},
     "output_type": "execute_result"
    }
   ],
   "source": [
    "control_covariate"
   ]
  },
  {
   "cell_type": "code",
   "execution_count": 8,
   "metadata": {},
   "outputs": [
    {
     "data": {
      "text/plain": "         Baseline_History_Myocardial_Infarction Baseline_History_Stroke  \\\nMaskID                                                                    \n102274.0                                     No                      No   \n103668.0                                     No                      No   \n103029.0                                     No                      No   \n105960.0                                     No                      No   \n104922.0                                     No                      No   \n...                                         ...                     ...   \n105088.0                                     No                      No   \n107882.0                                     No                      No   \n107440.0                                     No                      No   \n105965.0                                     No                      No   \n106250.0                                     No                      No   \n\n         Baseline_History_Angina  \\\nMaskID                             \n102274.0                      No   \n103668.0                      No   \n103029.0                      No   \n105960.0                      No   \n104922.0                      No   \n...                          ...   \n105088.0                      No   \n107882.0                     Yes   \n107440.0                     Yes   \n105965.0                      No   \n106250.0                      No   \n\n         Baseline_History_Coronary_Artery_Bypass_Graft  \\\nMaskID                                                   \n102274.0                                            No   \n103668.0                                            No   \n103029.0                                            No   \n105960.0                                            No   \n104922.0                                            No   \n...                                                ...   \n105088.0                                            No   \n107882.0                                           Yes   \n107440.0                                            No   \n105965.0                                            No   \n106250.0                                            No   \n\n         Baseline_History_Percutaneous_Coronary_Intervention  \\\nMaskID                                                         \n102274.0                                                 No    \n103668.0                                                 No    \n103029.0                                                 No    \n105960.0                                                 No    \n104922.0                                                 No    \n...                                                     ...    \n105088.0                                                 No    \n107882.0                                                 No    \n107440.0                                                Yes    \n105965.0                                                 No    \n106250.0                                                 No    \n\n         Baseline_History_Cardiovascular_Disease  \\\nMaskID                                             \n102274.0                                      No   \n103668.0                                      No   \n103029.0                                      No   \n105960.0                                      No   \n104922.0                                      No   \n...                                          ...   \n105088.0                                      No   \n107882.0                                     Yes   \n107440.0                                     Yes   \n105965.0                                      No   \n106250.0                                     Yes   \n\n         Baseline_Prior_revascularization Baseline_Lipid_Lowering_Therapy  \\\nMaskID                                                                      \n102274.0                               No                             Yes   \n103668.0                               No                             Yes   \n103029.0                               No                             Yes   \n105960.0                               No                             Yes   \n104922.0                               No                             Yes   \n...                                   ...                             ...   \n105088.0                               No                             Yes   \n107882.0                               No                             Yes   \n107440.0                               No                             Yes   \n105965.0                               No                             Yes   \n106250.0                              Yes                             Yes   \n\n         Baseline_Smoke_status Baseline_On_Blood_Pressure_Medication  ...  \\\nMaskID                                                                ...   \n102274.0                    No                                   Yes  ...   \n103668.0                   Yes                                   Yes  ...   \n103029.0                    No                                   Yes  ...   \n105960.0                    No                                   Yes  ...   \n104922.0                    No                                   Yes  ...   \n...                        ...                                   ...  ...   \n105088.0                    No                                   Yes  ...   \n107882.0                    No                                    No  ...   \n107440.0                    No                                   Yes  ...   \n105965.0                    No                                   Yes  ...   \n106250.0                    No                                   Yes  ...   \n\n         Baseline_Fasting_Plasma_Glucose Baseline_Alanine_Transaminase  \\\nMaskID                                                                   \n102274.0                           153.0                          26.0   \n103668.0                           188.0                          27.0   \n103029.0                           100.0                          37.0   \n105960.0                           309.0                          38.0   \n104922.0                           222.0                          55.0   \n...                                  ...                           ...   \n105088.0                           113.0                          14.0   \n107882.0                           147.0                          49.0   \n107440.0                           125.0                          46.0   \n105965.0                           130.0                          32.0   \n106250.0                           192.0                          24.0   \n\n         Baseline_Creatine_Phosphokinase Baseline_Serum_creatinine  \\\nMaskID                                                               \n102274.0                           129.0                       0.9   \n103668.0                           103.0                       1.0   \n103029.0                           156.0                       1.0   \n105960.0                           102.0                       0.9   \n104922.0                            76.0                       0.8   \n...                                  ...                       ...   \n105088.0                           259.0                       0.6   \n107882.0                            75.0                       0.9   \n107440.0                           151.0                       1.0   \n105965.0                           109.0                       0.6   \n106250.0                           224.0                       0.8   \n\n         Baseline_Estimated_Glomerular_Filtration_Rate Baseline_Urine_albumin  \\\nMaskID                                                                          \n102274.0                                          68.9                   0.99   \n103668.0                                          61.0                   0.60   \n103029.0                                          79.8                  13.20   \n105960.0                                          92.2                   0.50   \n104922.0                                          76.6                   1.62   \n...                                                ...                    ...   \n105088.0                                         128.9                   0.35   \n107882.0                                          92.5                   0.84   \n107440.0                                          82.2                   1.34   \n105965.0                                         108.8                   0.45   \n106250.0                                          91.3                   0.72   \n\n         Baseline_Urine_albumin/creatinine_ratio Baseline_Urine_creatinine  \\\nMaskID                                                                       \n102274.0                                     0.5                     2.055   \n103668.0                                     1.1                     0.565   \n103029.0                                     6.0                     2.189   \n105960.0                                     0.6                     0.880   \n104922.0                                     1.3                     1.207   \n...                                          ...                       ...   \n105088.0                                     0.9                     0.377   \n107882.0                                     0.4                     2.346   \n107440.0                                     1.2                     1.115   \n105965.0                                     1.5                     0.298   \n106250.0                                     0.6                     1.220   \n\n         Baseline_LDL_Cholesterol Baseline_HDL_Cholesterol  \nMaskID                                                      \n102274.0                     88.0                     50.0  \n103668.0                     93.0                     54.0  \n103029.0                     90.0                     41.0  \n105960.0                    108.0                     57.0  \n104922.0                    126.0                     28.0  \n...                           ...                      ...  \n105088.0                    137.0                     71.0  \n107882.0                    105.0                     45.0  \n107440.0                    126.0                     35.0  \n105965.0                    112.0                     59.0  \n106250.0                    122.0                     57.0  \n\n[2273 rows x 39 columns]",
      "text/html": "<div>\n<style scoped>\n    .dataframe tbody tr th:only-of-type {\n        vertical-align: middle;\n    }\n\n    .dataframe tbody tr th {\n        vertical-align: top;\n    }\n\n    .dataframe thead th {\n        text-align: right;\n    }\n</style>\n<table border=\"1\" class=\"dataframe\">\n  <thead>\n    <tr style=\"text-align: right;\">\n      <th></th>\n      <th>Baseline_History_Myocardial_Infarction</th>\n      <th>Baseline_History_Stroke</th>\n      <th>Baseline_History_Angina</th>\n      <th>Baseline_History_Coronary_Artery_Bypass_Graft</th>\n      <th>Baseline_History_Percutaneous_Coronary_Intervention</th>\n      <th>Baseline_History_Cardiovascular_Disease</th>\n      <th>Baseline_Prior_revascularization</th>\n      <th>Baseline_Lipid_Lowering_Therapy</th>\n      <th>Baseline_Smoke_status</th>\n      <th>Baseline_On_Blood_Pressure_Medication</th>\n      <th>...</th>\n      <th>Baseline_Fasting_Plasma_Glucose</th>\n      <th>Baseline_Alanine_Transaminase</th>\n      <th>Baseline_Creatine_Phosphokinase</th>\n      <th>Baseline_Serum_creatinine</th>\n      <th>Baseline_Estimated_Glomerular_Filtration_Rate</th>\n      <th>Baseline_Urine_albumin</th>\n      <th>Baseline_Urine_albumin/creatinine_ratio</th>\n      <th>Baseline_Urine_creatinine</th>\n      <th>Baseline_LDL_Cholesterol</th>\n      <th>Baseline_HDL_Cholesterol</th>\n    </tr>\n    <tr>\n      <th>MaskID</th>\n      <th></th>\n      <th></th>\n      <th></th>\n      <th></th>\n      <th></th>\n      <th></th>\n      <th></th>\n      <th></th>\n      <th></th>\n      <th></th>\n      <th></th>\n      <th></th>\n      <th></th>\n      <th></th>\n      <th></th>\n      <th></th>\n      <th></th>\n      <th></th>\n      <th></th>\n      <th></th>\n      <th></th>\n    </tr>\n  </thead>\n  <tbody>\n    <tr>\n      <th>102274.0</th>\n      <td>No</td>\n      <td>No</td>\n      <td>No</td>\n      <td>No</td>\n      <td>No</td>\n      <td>No</td>\n      <td>No</td>\n      <td>Yes</td>\n      <td>No</td>\n      <td>Yes</td>\n      <td>...</td>\n      <td>153.0</td>\n      <td>26.0</td>\n      <td>129.0</td>\n      <td>0.9</td>\n      <td>68.9</td>\n      <td>0.99</td>\n      <td>0.5</td>\n      <td>2.055</td>\n      <td>88.0</td>\n      <td>50.0</td>\n    </tr>\n    <tr>\n      <th>103668.0</th>\n      <td>No</td>\n      <td>No</td>\n      <td>No</td>\n      <td>No</td>\n      <td>No</td>\n      <td>No</td>\n      <td>No</td>\n      <td>Yes</td>\n      <td>Yes</td>\n      <td>Yes</td>\n      <td>...</td>\n      <td>188.0</td>\n      <td>27.0</td>\n      <td>103.0</td>\n      <td>1.0</td>\n      <td>61.0</td>\n      <td>0.60</td>\n      <td>1.1</td>\n      <td>0.565</td>\n      <td>93.0</td>\n      <td>54.0</td>\n    </tr>\n    <tr>\n      <th>103029.0</th>\n      <td>No</td>\n      <td>No</td>\n      <td>No</td>\n      <td>No</td>\n      <td>No</td>\n      <td>No</td>\n      <td>No</td>\n      <td>Yes</td>\n      <td>No</td>\n      <td>Yes</td>\n      <td>...</td>\n      <td>100.0</td>\n      <td>37.0</td>\n      <td>156.0</td>\n      <td>1.0</td>\n      <td>79.8</td>\n      <td>13.20</td>\n      <td>6.0</td>\n      <td>2.189</td>\n      <td>90.0</td>\n      <td>41.0</td>\n    </tr>\n    <tr>\n      <th>105960.0</th>\n      <td>No</td>\n      <td>No</td>\n      <td>No</td>\n      <td>No</td>\n      <td>No</td>\n      <td>No</td>\n      <td>No</td>\n      <td>Yes</td>\n      <td>No</td>\n      <td>Yes</td>\n      <td>...</td>\n      <td>309.0</td>\n      <td>38.0</td>\n      <td>102.0</td>\n      <td>0.9</td>\n      <td>92.2</td>\n      <td>0.50</td>\n      <td>0.6</td>\n      <td>0.880</td>\n      <td>108.0</td>\n      <td>57.0</td>\n    </tr>\n    <tr>\n      <th>104922.0</th>\n      <td>No</td>\n      <td>No</td>\n      <td>No</td>\n      <td>No</td>\n      <td>No</td>\n      <td>No</td>\n      <td>No</td>\n      <td>Yes</td>\n      <td>No</td>\n      <td>Yes</td>\n      <td>...</td>\n      <td>222.0</td>\n      <td>55.0</td>\n      <td>76.0</td>\n      <td>0.8</td>\n      <td>76.6</td>\n      <td>1.62</td>\n      <td>1.3</td>\n      <td>1.207</td>\n      <td>126.0</td>\n      <td>28.0</td>\n    </tr>\n    <tr>\n      <th>...</th>\n      <td>...</td>\n      <td>...</td>\n      <td>...</td>\n      <td>...</td>\n      <td>...</td>\n      <td>...</td>\n      <td>...</td>\n      <td>...</td>\n      <td>...</td>\n      <td>...</td>\n      <td>...</td>\n      <td>...</td>\n      <td>...</td>\n      <td>...</td>\n      <td>...</td>\n      <td>...</td>\n      <td>...</td>\n      <td>...</td>\n      <td>...</td>\n      <td>...</td>\n      <td>...</td>\n    </tr>\n    <tr>\n      <th>105088.0</th>\n      <td>No</td>\n      <td>No</td>\n      <td>No</td>\n      <td>No</td>\n      <td>No</td>\n      <td>No</td>\n      <td>No</td>\n      <td>Yes</td>\n      <td>No</td>\n      <td>Yes</td>\n      <td>...</td>\n      <td>113.0</td>\n      <td>14.0</td>\n      <td>259.0</td>\n      <td>0.6</td>\n      <td>128.9</td>\n      <td>0.35</td>\n      <td>0.9</td>\n      <td>0.377</td>\n      <td>137.0</td>\n      <td>71.0</td>\n    </tr>\n    <tr>\n      <th>107882.0</th>\n      <td>No</td>\n      <td>No</td>\n      <td>Yes</td>\n      <td>Yes</td>\n      <td>No</td>\n      <td>Yes</td>\n      <td>No</td>\n      <td>Yes</td>\n      <td>No</td>\n      <td>No</td>\n      <td>...</td>\n      <td>147.0</td>\n      <td>49.0</td>\n      <td>75.0</td>\n      <td>0.9</td>\n      <td>92.5</td>\n      <td>0.84</td>\n      <td>0.4</td>\n      <td>2.346</td>\n      <td>105.0</td>\n      <td>45.0</td>\n    </tr>\n    <tr>\n      <th>107440.0</th>\n      <td>No</td>\n      <td>No</td>\n      <td>Yes</td>\n      <td>No</td>\n      <td>Yes</td>\n      <td>Yes</td>\n      <td>No</td>\n      <td>Yes</td>\n      <td>No</td>\n      <td>Yes</td>\n      <td>...</td>\n      <td>125.0</td>\n      <td>46.0</td>\n      <td>151.0</td>\n      <td>1.0</td>\n      <td>82.2</td>\n      <td>1.34</td>\n      <td>1.2</td>\n      <td>1.115</td>\n      <td>126.0</td>\n      <td>35.0</td>\n    </tr>\n    <tr>\n      <th>105965.0</th>\n      <td>No</td>\n      <td>No</td>\n      <td>No</td>\n      <td>No</td>\n      <td>No</td>\n      <td>No</td>\n      <td>No</td>\n      <td>Yes</td>\n      <td>No</td>\n      <td>Yes</td>\n      <td>...</td>\n      <td>130.0</td>\n      <td>32.0</td>\n      <td>109.0</td>\n      <td>0.6</td>\n      <td>108.8</td>\n      <td>0.45</td>\n      <td>1.5</td>\n      <td>0.298</td>\n      <td>112.0</td>\n      <td>59.0</td>\n    </tr>\n    <tr>\n      <th>106250.0</th>\n      <td>No</td>\n      <td>No</td>\n      <td>No</td>\n      <td>No</td>\n      <td>No</td>\n      <td>Yes</td>\n      <td>Yes</td>\n      <td>Yes</td>\n      <td>No</td>\n      <td>Yes</td>\n      <td>...</td>\n      <td>192.0</td>\n      <td>24.0</td>\n      <td>224.0</td>\n      <td>0.8</td>\n      <td>91.3</td>\n      <td>0.72</td>\n      <td>0.6</td>\n      <td>1.220</td>\n      <td>122.0</td>\n      <td>57.0</td>\n    </tr>\n  </tbody>\n</table>\n<p>2273 rows × 39 columns</p>\n</div>"
     },
     "execution_count": 8,
     "metadata": {},
     "output_type": "execute_result"
    }
   ],
   "source": [
    "treatment_covariate"
   ]
  },
  {
   "cell_type": "code",
   "execution_count": 9,
   "metadata": {},
   "outputs": [],
   "source": [
    "from auton_survival.preprocessing import Preprocessor\n",
    "features_control = Preprocessor().fit_transform(control_covariate, cat_feats=dataset.cat_features, num_feats=dataset.num_features)"
   ]
  },
  {
   "cell_type": "code",
   "execution_count": 10,
   "metadata": {},
   "outputs": [],
   "source": [
    "features_treatment = Preprocessor().fit_transform(treatment_covariate, cat_feats=dataset.cat_features, num_feats=dataset.num_features)"
   ]
  },
  {
   "cell_type": "code",
   "execution_count": 11,
   "metadata": {},
   "outputs": [
    {
     "data": {
      "text/plain": "          Baseline_Age  Baseline_Seated_Systolic_Blood_Pressure  \\\nMaskID                                                            \n109144.0      2.076749                                -1.614401   \n106495.0      0.371191                                 0.872504   \n108531.0     -0.696636                                -0.135701   \n107697.0     -0.933931                                -0.538982   \n100233.0     -0.251708                                -0.068487   \n...                ...                                      ...   \n105942.0     -0.429679                                -1.143905   \n101682.0      0.830950                                -0.068487   \n109775.0     -0.014413                                 0.939718   \n102460.0     -0.652143                                 0.065940   \n103850.0     -0.281370                                 1.141359   \n\n          Baseline_Seated_Diastolic_Blood_Pressure  Baseline_Heart_Rate  \\\nMaskID                                                                    \n109144.0                                 -1.915371            -0.624016   \n106495.0                                  1.463343             0.793120   \n108531.0                                  1.053801            -0.092590   \n107697.0                                 -0.481978             1.855972   \n100233.0                                 -1.301060            -1.952581   \n...                                            ...                  ...   \n105942.0                                 -0.072436             0.970262   \n101682.0                                  0.746646             0.084552   \n109775.0                                  0.234719            -1.421155   \n102460.0                                  0.029949            -0.978300   \n103850.0                                 -0.584363            -0.269732   \n\n          Baseline_Total_Cholesterol  Baseline_Triglycerides  \\\nMaskID                                                         \n109144.0                   -0.924595               -1.034755   \n106495.0                    1.556285               -0.931347   \n108531.0                   -1.334061               -0.843847   \n107697.0                   -0.466957               -0.279077   \n100233.0                   -1.430406               -0.907483   \n...                              ...                     ...   \n105942.0                    1.941665                0.882282   \n101682.0                   -0.009319                0.802737   \n109775.0                    0.833699                4.151585   \n102460.0                    0.327888                0.516374   \n103850.0                    0.592837               -0.963165   \n\n          Baseline_Very_low_density_lipoprotein  Baseline_Potassium  \\\nMaskID                                                                \n109144.0                              -1.119481            1.501555   \n106495.0                              -1.027007            2.986117   \n108531.0                              -0.934532            0.639551   \n107697.0                              -0.240971            1.142386   \n100233.0                              -0.980769           -0.126675   \n...                                         ...                 ...   \n105942.0                               1.099914           -0.845011   \n101682.0                               1.007439           -0.342176   \n109775.0                               3.365546            1.238165   \n102460.0                               0.683777            0.424050   \n103850.0                              -1.073244           -1.467569   \n\n          Baseline_Fasting_Plasma_Glucose  Baseline_Alanine_Transaminase  ...  \\\nMaskID                                                                    ...   \n109144.0                        -0.360646                      -1.117818  ...   \n106495.0                         2.515548                       0.150446  ...   \n108531.0                         0.395276                       1.642521  ...   \n107697.0                        -0.010341                      -0.147969  ...   \n100233.0                        -0.231587                      -0.894006  ...   \n...                                   ...                            ...  ...   \n105942.0                         0.063408                       1.045691  ...   \n101682.0                         0.524336                      -0.744799  ...   \n109775.0                         2.183679                       1.045691  ...   \n102460.0                         1.132762                       0.075842  ...   \n103850.0                         1.261822                       1.567917  ...   \n\n          Baseline_History_Albuminuria_Yes  \\\nMaskID                                       \n109144.0                                 0   \n106495.0                                 0   \n108531.0                                 0   \n107697.0                                 0   \n100233.0                                 0   \n...                                    ...   \n105942.0                                 0   \n101682.0                                 0   \n109775.0                                 0   \n102460.0                                 0   \n103850.0                                 0   \n\n          Baseline_History_Left_Ventricular_Hypertrophy_Not Available  \\\nMaskID                                                                  \n109144.0                                                  0             \n106495.0                                                  0             \n108531.0                                                  0             \n107697.0                                                  1             \n100233.0                                                  0             \n...                                                     ...             \n105942.0                                                  1             \n101682.0                                                  1             \n109775.0                                                  1             \n102460.0                                                  1             \n103850.0                                                  1             \n\n          Baseline_History_Left_Ventricular_Hypertrophy_Yes  \\\nMaskID                                                        \n109144.0                                                  0   \n106495.0                                                  0   \n108531.0                                                  0   \n107697.0                                                  0   \n100233.0                                                  0   \n...                                                     ...   \n105942.0                                                  0   \n101682.0                                                  0   \n109775.0                                                  0   \n102460.0                                                  0   \n103850.0                                                  0   \n\n          Baseline_Low_Ankle_Brachial_Index_Not Available  \\\nMaskID                                                      \n109144.0                                                0   \n106495.0                                                1   \n108531.0                                                1   \n107697.0                                                1   \n100233.0                                                0   \n...                                                   ...   \n105942.0                                                0   \n101682.0                                                1   \n109775.0                                                1   \n102460.0                                                1   \n103850.0                                                1   \n\n          Baseline_Low_Ankle_Brachial_Index_Yes  Sex_Male  Race_b'Hispanic'  \\\nMaskID                                                                        \n109144.0                                      0         1                 0   \n106495.0                                      0         1                 0   \n108531.0                                      0         0                 1   \n107697.0                                      0         1                 0   \n100233.0                                      0         1                 0   \n...                                         ...       ...               ...   \n105942.0                                      0         0                 0   \n101682.0                                      0         0                 0   \n109775.0                                      0         1                 0   \n102460.0                                      0         0                 0   \n103850.0                                      0         0                 0   \n\n          Race_b'Other'  Race_b'White'  Glycemia Trial_True  \nMaskID                                                       \n109144.0              0              1                    1  \n106495.0              0              1                    1  \n108531.0              0              0                    0  \n107697.0              0              0                    1  \n100233.0              1              0                    1  \n...                 ...            ...                  ...  \n105942.0              0              1                    1  \n101682.0              1              0                    0  \n109775.0              0              1                    0  \n102460.0              0              1                    0  \n103850.0              1              0                    1  \n\n[2271 rows x 41 columns]",
      "text/html": "<div>\n<style scoped>\n    .dataframe tbody tr th:only-of-type {\n        vertical-align: middle;\n    }\n\n    .dataframe tbody tr th {\n        vertical-align: top;\n    }\n\n    .dataframe thead th {\n        text-align: right;\n    }\n</style>\n<table border=\"1\" class=\"dataframe\">\n  <thead>\n    <tr style=\"text-align: right;\">\n      <th></th>\n      <th>Baseline_Age</th>\n      <th>Baseline_Seated_Systolic_Blood_Pressure</th>\n      <th>Baseline_Seated_Diastolic_Blood_Pressure</th>\n      <th>Baseline_Heart_Rate</th>\n      <th>Baseline_Total_Cholesterol</th>\n      <th>Baseline_Triglycerides</th>\n      <th>Baseline_Very_low_density_lipoprotein</th>\n      <th>Baseline_Potassium</th>\n      <th>Baseline_Fasting_Plasma_Glucose</th>\n      <th>Baseline_Alanine_Transaminase</th>\n      <th>...</th>\n      <th>Baseline_History_Albuminuria_Yes</th>\n      <th>Baseline_History_Left_Ventricular_Hypertrophy_Not Available</th>\n      <th>Baseline_History_Left_Ventricular_Hypertrophy_Yes</th>\n      <th>Baseline_Low_Ankle_Brachial_Index_Not Available</th>\n      <th>Baseline_Low_Ankle_Brachial_Index_Yes</th>\n      <th>Sex_Male</th>\n      <th>Race_b'Hispanic'</th>\n      <th>Race_b'Other'</th>\n      <th>Race_b'White'</th>\n      <th>Glycemia Trial_True</th>\n    </tr>\n    <tr>\n      <th>MaskID</th>\n      <th></th>\n      <th></th>\n      <th></th>\n      <th></th>\n      <th></th>\n      <th></th>\n      <th></th>\n      <th></th>\n      <th></th>\n      <th></th>\n      <th></th>\n      <th></th>\n      <th></th>\n      <th></th>\n      <th></th>\n      <th></th>\n      <th></th>\n      <th></th>\n      <th></th>\n      <th></th>\n      <th></th>\n    </tr>\n  </thead>\n  <tbody>\n    <tr>\n      <th>109144.0</th>\n      <td>2.076749</td>\n      <td>-1.614401</td>\n      <td>-1.915371</td>\n      <td>-0.624016</td>\n      <td>-0.924595</td>\n      <td>-1.034755</td>\n      <td>-1.119481</td>\n      <td>1.501555</td>\n      <td>-0.360646</td>\n      <td>-1.117818</td>\n      <td>...</td>\n      <td>0</td>\n      <td>0</td>\n      <td>0</td>\n      <td>0</td>\n      <td>0</td>\n      <td>1</td>\n      <td>0</td>\n      <td>0</td>\n      <td>1</td>\n      <td>1</td>\n    </tr>\n    <tr>\n      <th>106495.0</th>\n      <td>0.371191</td>\n      <td>0.872504</td>\n      <td>1.463343</td>\n      <td>0.793120</td>\n      <td>1.556285</td>\n      <td>-0.931347</td>\n      <td>-1.027007</td>\n      <td>2.986117</td>\n      <td>2.515548</td>\n      <td>0.150446</td>\n      <td>...</td>\n      <td>0</td>\n      <td>0</td>\n      <td>0</td>\n      <td>1</td>\n      <td>0</td>\n      <td>1</td>\n      <td>0</td>\n      <td>0</td>\n      <td>1</td>\n      <td>1</td>\n    </tr>\n    <tr>\n      <th>108531.0</th>\n      <td>-0.696636</td>\n      <td>-0.135701</td>\n      <td>1.053801</td>\n      <td>-0.092590</td>\n      <td>-1.334061</td>\n      <td>-0.843847</td>\n      <td>-0.934532</td>\n      <td>0.639551</td>\n      <td>0.395276</td>\n      <td>1.642521</td>\n      <td>...</td>\n      <td>0</td>\n      <td>0</td>\n      <td>0</td>\n      <td>1</td>\n      <td>0</td>\n      <td>0</td>\n      <td>1</td>\n      <td>0</td>\n      <td>0</td>\n      <td>0</td>\n    </tr>\n    <tr>\n      <th>107697.0</th>\n      <td>-0.933931</td>\n      <td>-0.538982</td>\n      <td>-0.481978</td>\n      <td>1.855972</td>\n      <td>-0.466957</td>\n      <td>-0.279077</td>\n      <td>-0.240971</td>\n      <td>1.142386</td>\n      <td>-0.010341</td>\n      <td>-0.147969</td>\n      <td>...</td>\n      <td>0</td>\n      <td>1</td>\n      <td>0</td>\n      <td>1</td>\n      <td>0</td>\n      <td>1</td>\n      <td>0</td>\n      <td>0</td>\n      <td>0</td>\n      <td>1</td>\n    </tr>\n    <tr>\n      <th>100233.0</th>\n      <td>-0.251708</td>\n      <td>-0.068487</td>\n      <td>-1.301060</td>\n      <td>-1.952581</td>\n      <td>-1.430406</td>\n      <td>-0.907483</td>\n      <td>-0.980769</td>\n      <td>-0.126675</td>\n      <td>-0.231587</td>\n      <td>-0.894006</td>\n      <td>...</td>\n      <td>0</td>\n      <td>0</td>\n      <td>0</td>\n      <td>0</td>\n      <td>0</td>\n      <td>1</td>\n      <td>0</td>\n      <td>1</td>\n      <td>0</td>\n      <td>1</td>\n    </tr>\n    <tr>\n      <th>...</th>\n      <td>...</td>\n      <td>...</td>\n      <td>...</td>\n      <td>...</td>\n      <td>...</td>\n      <td>...</td>\n      <td>...</td>\n      <td>...</td>\n      <td>...</td>\n      <td>...</td>\n      <td>...</td>\n      <td>...</td>\n      <td>...</td>\n      <td>...</td>\n      <td>...</td>\n      <td>...</td>\n      <td>...</td>\n      <td>...</td>\n      <td>...</td>\n      <td>...</td>\n      <td>...</td>\n    </tr>\n    <tr>\n      <th>105942.0</th>\n      <td>-0.429679</td>\n      <td>-1.143905</td>\n      <td>-0.072436</td>\n      <td>0.970262</td>\n      <td>1.941665</td>\n      <td>0.882282</td>\n      <td>1.099914</td>\n      <td>-0.845011</td>\n      <td>0.063408</td>\n      <td>1.045691</td>\n      <td>...</td>\n      <td>0</td>\n      <td>1</td>\n      <td>0</td>\n      <td>0</td>\n      <td>0</td>\n      <td>0</td>\n      <td>0</td>\n      <td>0</td>\n      <td>1</td>\n      <td>1</td>\n    </tr>\n    <tr>\n      <th>101682.0</th>\n      <td>0.830950</td>\n      <td>-0.068487</td>\n      <td>0.746646</td>\n      <td>0.084552</td>\n      <td>-0.009319</td>\n      <td>0.802737</td>\n      <td>1.007439</td>\n      <td>-0.342176</td>\n      <td>0.524336</td>\n      <td>-0.744799</td>\n      <td>...</td>\n      <td>0</td>\n      <td>1</td>\n      <td>0</td>\n      <td>1</td>\n      <td>0</td>\n      <td>0</td>\n      <td>0</td>\n      <td>1</td>\n      <td>0</td>\n      <td>0</td>\n    </tr>\n    <tr>\n      <th>109775.0</th>\n      <td>-0.014413</td>\n      <td>0.939718</td>\n      <td>0.234719</td>\n      <td>-1.421155</td>\n      <td>0.833699</td>\n      <td>4.151585</td>\n      <td>3.365546</td>\n      <td>1.238165</td>\n      <td>2.183679</td>\n      <td>1.045691</td>\n      <td>...</td>\n      <td>0</td>\n      <td>1</td>\n      <td>0</td>\n      <td>1</td>\n      <td>0</td>\n      <td>1</td>\n      <td>0</td>\n      <td>0</td>\n      <td>1</td>\n      <td>0</td>\n    </tr>\n    <tr>\n      <th>102460.0</th>\n      <td>-0.652143</td>\n      <td>0.065940</td>\n      <td>0.029949</td>\n      <td>-0.978300</td>\n      <td>0.327888</td>\n      <td>0.516374</td>\n      <td>0.683777</td>\n      <td>0.424050</td>\n      <td>1.132762</td>\n      <td>0.075842</td>\n      <td>...</td>\n      <td>0</td>\n      <td>1</td>\n      <td>0</td>\n      <td>1</td>\n      <td>0</td>\n      <td>0</td>\n      <td>0</td>\n      <td>0</td>\n      <td>1</td>\n      <td>0</td>\n    </tr>\n    <tr>\n      <th>103850.0</th>\n      <td>-0.281370</td>\n      <td>1.141359</td>\n      <td>-0.584363</td>\n      <td>-0.269732</td>\n      <td>0.592837</td>\n      <td>-0.963165</td>\n      <td>-1.073244</td>\n      <td>-1.467569</td>\n      <td>1.261822</td>\n      <td>1.567917</td>\n      <td>...</td>\n      <td>0</td>\n      <td>1</td>\n      <td>0</td>\n      <td>1</td>\n      <td>0</td>\n      <td>0</td>\n      <td>0</td>\n      <td>1</td>\n      <td>0</td>\n      <td>1</td>\n    </tr>\n  </tbody>\n</table>\n<p>2271 rows × 41 columns</p>\n</div>"
     },
     "execution_count": 11,
     "metadata": {},
     "output_type": "execute_result"
    }
   ],
   "source": [
    "features_control"
   ]
  },
  {
   "cell_type": "code",
   "execution_count": 12,
   "metadata": {},
   "outputs": [],
   "source": [
    "outcomes_control = dataset.outcomes.loc[index_control]"
   ]
  },
  {
   "cell_type": "code",
   "execution_count": 13,
   "metadata": {},
   "outputs": [
    {
     "data": {
      "text/plain": "                 time  event\nMaskID                      \n109144.0  2191.500000  False\n106495.0  1735.187671  False\n108531.0   859.588356  False\n107697.0  1352.472165  False\n100233.0  1811.239726  False\n...               ...    ...\n105942.0  1377.508427  False\n101682.0  1824.248630  False\n109775.0  1482.342477   True\n102460.0  1093.748630  False\n103850.0   978.669863  False\n\n[2271 rows x 2 columns]",
      "text/html": "<div>\n<style scoped>\n    .dataframe tbody tr th:only-of-type {\n        vertical-align: middle;\n    }\n\n    .dataframe tbody tr th {\n        vertical-align: top;\n    }\n\n    .dataframe thead th {\n        text-align: right;\n    }\n</style>\n<table border=\"1\" class=\"dataframe\">\n  <thead>\n    <tr style=\"text-align: right;\">\n      <th></th>\n      <th>time</th>\n      <th>event</th>\n    </tr>\n    <tr>\n      <th>MaskID</th>\n      <th></th>\n      <th></th>\n    </tr>\n  </thead>\n  <tbody>\n    <tr>\n      <th>109144.0</th>\n      <td>2191.500000</td>\n      <td>False</td>\n    </tr>\n    <tr>\n      <th>106495.0</th>\n      <td>1735.187671</td>\n      <td>False</td>\n    </tr>\n    <tr>\n      <th>108531.0</th>\n      <td>859.588356</td>\n      <td>False</td>\n    </tr>\n    <tr>\n      <th>107697.0</th>\n      <td>1352.472165</td>\n      <td>False</td>\n    </tr>\n    <tr>\n      <th>100233.0</th>\n      <td>1811.239726</td>\n      <td>False</td>\n    </tr>\n    <tr>\n      <th>...</th>\n      <td>...</td>\n      <td>...</td>\n    </tr>\n    <tr>\n      <th>105942.0</th>\n      <td>1377.508427</td>\n      <td>False</td>\n    </tr>\n    <tr>\n      <th>101682.0</th>\n      <td>1824.248630</td>\n      <td>False</td>\n    </tr>\n    <tr>\n      <th>109775.0</th>\n      <td>1482.342477</td>\n      <td>True</td>\n    </tr>\n    <tr>\n      <th>102460.0</th>\n      <td>1093.748630</td>\n      <td>False</td>\n    </tr>\n    <tr>\n      <th>103850.0</th>\n      <td>978.669863</td>\n      <td>False</td>\n    </tr>\n  </tbody>\n</table>\n<p>2271 rows × 2 columns</p>\n</div>"
     },
     "execution_count": 13,
     "metadata": {},
     "output_type": "execute_result"
    }
   ],
   "source": [
    "outcomes_control"
   ]
  },
  {
   "cell_type": "code",
   "execution_count": 14,
   "metadata": {},
   "outputs": [],
   "source": [
    "outcomes_treatment = dataset.outcomes.loc[index_treatment]"
   ]
  },
  {
   "cell_type": "code",
   "execution_count": 15,
   "metadata": {},
   "outputs": [
    {
     "data": {
      "text/plain": "                 time  event\nMaskID                      \n102274.0  1021.699315  False\n103668.0  1649.128767  False\n103029.0  1560.067808  False\n105960.0  1651.130137  False\n104922.0  1740.191096  False\n...               ...    ...\n105088.0   720.113109  False\n107882.0  1533.158680  False\n107440.0  1614.104795  False\n105965.0  1510.129256  False\n106250.0  1725.180822  False\n\n[2273 rows x 2 columns]",
      "text/html": "<div>\n<style scoped>\n    .dataframe tbody tr th:only-of-type {\n        vertical-align: middle;\n    }\n\n    .dataframe tbody tr th {\n        vertical-align: top;\n    }\n\n    .dataframe thead th {\n        text-align: right;\n    }\n</style>\n<table border=\"1\" class=\"dataframe\">\n  <thead>\n    <tr style=\"text-align: right;\">\n      <th></th>\n      <th>time</th>\n      <th>event</th>\n    </tr>\n    <tr>\n      <th>MaskID</th>\n      <th></th>\n      <th></th>\n    </tr>\n  </thead>\n  <tbody>\n    <tr>\n      <th>102274.0</th>\n      <td>1021.699315</td>\n      <td>False</td>\n    </tr>\n    <tr>\n      <th>103668.0</th>\n      <td>1649.128767</td>\n      <td>False</td>\n    </tr>\n    <tr>\n      <th>103029.0</th>\n      <td>1560.067808</td>\n      <td>False</td>\n    </tr>\n    <tr>\n      <th>105960.0</th>\n      <td>1651.130137</td>\n      <td>False</td>\n    </tr>\n    <tr>\n      <th>104922.0</th>\n      <td>1740.191096</td>\n      <td>False</td>\n    </tr>\n    <tr>\n      <th>...</th>\n      <td>...</td>\n      <td>...</td>\n    </tr>\n    <tr>\n      <th>105088.0</th>\n      <td>720.113109</td>\n      <td>False</td>\n    </tr>\n    <tr>\n      <th>107882.0</th>\n      <td>1533.158680</td>\n      <td>False</td>\n    </tr>\n    <tr>\n      <th>107440.0</th>\n      <td>1614.104795</td>\n      <td>False</td>\n    </tr>\n    <tr>\n      <th>105965.0</th>\n      <td>1510.129256</td>\n      <td>False</td>\n    </tr>\n    <tr>\n      <th>106250.0</th>\n      <td>1725.180822</td>\n      <td>False</td>\n    </tr>\n  </tbody>\n</table>\n<p>2273 rows × 2 columns</p>\n</div>"
     },
     "execution_count": 15,
     "metadata": {},
     "output_type": "execute_result"
    }
   ],
   "source": [
    "outcomes_treatment"
   ]
  },
  {
   "cell_type": "markdown",
   "metadata": {},
   "source": []
  },
  {
   "cell_type": "code",
   "execution_count": 16,
   "metadata": {},
   "outputs": [],
   "source": [
    "import numpy as np\n",
    "horizons = [0.25, 0.5, 0.75]\n",
    "times = np.quantile(dataset.outcomes.time[dataset.outcomes.event==1], horizons).tolist()\n",
    "#times_treatment = np.quantile(outcomes_treatment.time[outcomes_treatment.event==1], horizons).tolist()\n",
    "\n"
   ]
  },
  {
   "cell_type": "code",
   "execution_count": 17,
   "metadata": {},
   "outputs": [],
   "source": [
    "x_control, t_control, e_control = features_control.values, outcomes_control.time.values, outcomes_control.event.values\n",
    "\n",
    "n = len(x_control)\n",
    "\n",
    "tr_size = int(n*0.50)\n",
    "vl_size = int(n*0.20)\n",
    "te_size = int(n*0.30)\n",
    "\n",
    "x_train_control, x_test_control, x_val_control = x_control[:tr_size], x_control[-te_size:], x_control[tr_size:tr_size+vl_size]\n",
    "t_train_control, t_test_control, t_val_control = t_control[:tr_size], t_control[-te_size:], t_control[tr_size:tr_size+vl_size]\n",
    "e_train_control, e_test_control, e_val_control = e_control[:tr_size], e_control[-te_size:], e_control[tr_size:tr_size+vl_size]"
   ]
  },
  {
   "cell_type": "code",
   "execution_count": 18,
   "metadata": {},
   "outputs": [],
   "source": [
    "x_treatment, t_treatment, e_treatment = features_treatment.values, outcomes_treatment.time.values, outcomes_treatment.event.values\n",
    "\n",
    "n = len(x_treatment)\n",
    "\n",
    "tr_size = int(n*0.50)\n",
    "vl_size = int(n*0.20)\n",
    "te_size = int(n*0.30)\n",
    "\n",
    "x_train_treatment, x_test_treatment, x_val_treatment = x_treatment[:tr_size], x_treatment[-te_size:], x_treatment[tr_size:tr_size+vl_size]\n",
    "t_train_treatment, t_test_treatment, t_val_treatment = t_treatment[:tr_size], t_treatment[-te_size:], t_treatment[tr_size:tr_size+vl_size]\n",
    "e_train_treatment, e_test_treatment, e_val_treatment = e_treatment[:tr_size], e_treatment[-te_size:], e_treatment[tr_size:tr_size+vl_size]"
   ]
  },
  {
   "cell_type": "code",
   "execution_count": 19,
   "metadata": {},
   "outputs": [
    {
     "name": "stdout",
     "output_type": "stream",
     "text": [
      "(2271, 41) (1362, 41) (908, 41)\n"
     ]
    }
   ],
   "source": [
    "x_train = np.concatenate((x_train_control, x_train_treatment), axis=0)\n",
    "x_test = np.concatenate((x_test_control, x_test_treatment), axis=0)\n",
    "x_val = np.concatenate((x_val_control, x_val_treatment), axis=0)\n",
    "\n",
    "t_train = np.concatenate((t_train_control, t_train_treatment), axis=0)\n",
    "t_test = np.concatenate((t_test_control, t_test_treatment), axis=0)\n",
    "t_val = np.concatenate((t_val_control, t_val_treatment), axis=0)\n",
    "\n",
    "e_train = np.concatenate((e_train_control, e_train_treatment), axis=0)\n",
    "e_test = np.concatenate((e_test_control, e_test_treatment), axis=0)\n",
    "e_val = np.concatenate((e_val_control, e_val_treatment), axis=0)\n",
    "\n",
    "print(x_train.shape, x_test.shape, x_val.shape)\n"
   ]
  },
  {
   "attachments": {},
   "cell_type": "markdown",
   "metadata": {},
   "source": [
    "### Setting the parameter grid\n"
   ]
  },
  {
   "cell_type": "code",
   "execution_count": 20,
   "metadata": {},
   "outputs": [],
   "source": [
    "from sklearn.model_selection import ParameterGrid"
   ]
  },
  {
   "cell_type": "code",
   "execution_count": 21,
   "metadata": {},
   "outputs": [],
   "source": [
    "param_grid_DSM = {'k' : [3, 4, 6],\n",
    "              'distribution' : ['LogNormal', 'Weibull'],\n",
    "              'learning_rate' : [ 1e-4, 1e-3,1e-2],\n",
    "              'layers' : [ [], [100], [100, 100], [100,100,100]]\n",
    "             }\n",
    "params_DSM = ParameterGrid(param_grid_DSM)"
   ]
  },
  {
   "attachments": {},
   "cell_type": "markdown",
   "metadata": {},
   "source": [
    "# DSM"
   ]
  },
  {
   "cell_type": "code",
   "execution_count": 22,
   "metadata": {},
   "outputs": [],
   "source": [
    "from auton_survival.models.dsm import DeepSurvivalMachines"
   ]
  },
  {
   "cell_type": "code",
   "execution_count": 23,
   "metadata": {},
   "outputs": [
    {
     "name": "stderr",
     "output_type": "stream",
     "text": [
      " 25%|██▍       | 2493/10000 [00:03<00:11, 633.59it/s]\n",
      " 18%|█▊        | 18/100 [00:00<00:03, 21.65it/s]\n",
      " 25%|██▍       | 2493/10000 [00:02<00:07, 966.89it/s]\n",
      "  4%|▍         | 4/100 [00:00<00:07, 12.78it/s]\n",
      " 25%|██▍       | 2493/10000 [00:02<00:07, 977.15it/s]\n",
      " 38%|███▊      | 38/100 [00:01<00:02, 24.04it/s]\n",
      " 25%|██▍       | 2493/10000 [00:02<00:07, 976.65it/s]\n",
      " 25%|██▌       | 25/100 [00:01<00:03, 20.02it/s]\n",
      " 25%|██▍       | 2493/10000 [00:02<00:07, 983.69it/s] \n",
      "  3%|▎         | 3/100 [00:00<00:09, 10.11it/s]\n",
      " 25%|██▍       | 2493/10000 [00:02<00:07, 999.69it/s] \n",
      "  3%|▎         | 3/100 [00:00<00:09, 10.12it/s]\n",
      " 25%|██▍       | 2493/10000 [00:02<00:07, 1000.80it/s]\n",
      " 25%|██▌       | 25/100 [00:01<00:04, 17.14it/s]\n",
      " 25%|██▍       | 2493/10000 [00:02<00:07, 998.71it/s] \n",
      "  3%|▎         | 3/100 [00:00<00:10,  9.19it/s]\n",
      " 25%|██▍       | 2493/10000 [00:02<00:07, 992.12it/s]\n",
      "  5%|▌         | 5/100 [00:00<00:07, 11.99it/s]\n",
      " 25%|██▍       | 2493/10000 [00:02<00:07, 988.55it/s]\n",
      " 25%|██▌       | 25/100 [00:01<00:04, 15.21it/s]\n",
      " 25%|██▍       | 2493/10000 [00:02<00:07, 991.54it/s] \n",
      "  5%|▌         | 5/100 [00:00<00:08, 10.71it/s]\n",
      " 25%|██▍       | 2493/10000 [00:02<00:07, 977.94it/s]\n",
      "  5%|▌         | 5/100 [00:00<00:08, 10.64it/s]\n",
      " 25%|██▍       | 2493/10000 [00:02<00:07, 988.41it/s] \n",
      " 37%|███▋      | 37/100 [00:01<00:02, 21.72it/s]\n",
      " 25%|██▍       | 2493/10000 [00:02<00:07, 980.62it/s]\n",
      "  8%|▊         | 8/100 [00:00<00:05, 16.23it/s]\n",
      " 25%|██▍       | 2493/10000 [00:02<00:07, 977.66it/s]\n",
      " 38%|███▊      | 38/100 [00:01<00:02, 21.78it/s]\n",
      " 25%|██▍       | 2493/10000 [00:02<00:07, 978.98it/s] \n",
      "  3%|▎         | 3/100 [00:00<00:10,  9.51it/s]\n",
      " 25%|██▍       | 2493/10000 [00:02<00:07, 989.33it/s]\n",
      "  3%|▎         | 3/100 [00:00<00:10,  9.17it/s]\n",
      " 25%|██▍       | 2493/10000 [00:02<00:07, 951.64it/s]\n",
      "  3%|▎         | 3/100 [00:00<00:14,  6.92it/s]\n",
      " 25%|██▍       | 2493/10000 [00:02<00:07, 956.76it/s]\n",
      "  8%|▊         | 8/100 [00:00<00:07, 12.31it/s]\n",
      " 25%|██▍       | 2493/10000 [00:02<00:08, 873.05it/s]\n",
      "  5%|▌         | 5/100 [00:00<00:10,  9.18it/s]\n",
      " 25%|██▍       | 2493/10000 [00:02<00:08, 853.83it/s]\n",
      "  6%|▌         | 6/100 [00:00<00:08, 10.87it/s]\n",
      " 25%|██▍       | 2493/10000 [00:02<00:08, 913.78it/s]\n",
      "  8%|▊         | 8/100 [00:00<00:08, 11.30it/s]\n",
      " 25%|██▍       | 2493/10000 [00:02<00:07, 973.14it/s]\n",
      "  5%|▌         | 5/100 [00:00<00:09,  9.85it/s]\n",
      " 25%|██▍       | 2493/10000 [00:02<00:07, 987.37it/s]\n",
      "  5%|▌         | 5/100 [00:00<00:09,  9.79it/s]\n",
      " 25%|██▍       | 2493/10000 [00:02<00:07, 993.24it/s] \n",
      " 25%|██▌       | 25/100 [00:01<00:04, 16.85it/s]\n",
      " 25%|██▍       | 2493/10000 [00:02<00:07, 988.05it/s]\n",
      "  5%|▌         | 5/100 [00:00<00:08, 11.53it/s]\n",
      " 25%|██▍       | 2493/10000 [00:02<00:07, 988.55it/s]\n",
      " 38%|███▊      | 38/100 [00:02<00:03, 17.53it/s]\n",
      " 25%|██▍       | 2493/10000 [00:02<00:07, 992.32it/s] \n",
      "  3%|▎         | 3/100 [00:00<00:11,  8.27it/s]\n",
      " 25%|██▍       | 2493/10000 [00:02<00:07, 987.94it/s]\n",
      "  3%|▎         | 3/100 [00:00<00:11,  8.34it/s]\n",
      " 25%|██▍       | 2493/10000 [00:02<00:07, 993.03it/s]\n",
      "  3%|▎         | 3/100 [00:00<00:11,  8.60it/s]\n",
      " 25%|██▍       | 2493/10000 [00:02<00:07, 980.44it/s]\n",
      "  3%|▎         | 3/100 [00:00<00:12,  7.76it/s]\n",
      " 25%|██▍       | 2493/10000 [00:02<00:07, 989.95it/s]\n",
      "  4%|▍         | 4/100 [00:00<00:11,  8.40it/s]\n",
      " 25%|██▍       | 2493/10000 [00:02<00:07, 980.94it/s]\n",
      "  5%|▌         | 5/100 [00:00<00:10,  9.45it/s]\n",
      " 25%|██▍       | 2493/10000 [00:02<00:07, 981.66it/s]\n",
      "  3%|▎         | 3/100 [00:00<00:13,  6.95it/s]\n",
      " 25%|██▍       | 2493/10000 [00:02<00:07, 983.81it/s]\n",
      "  5%|▌         | 5/100 [00:00<00:11,  8.58it/s]\n",
      " 25%|██▍       | 2493/10000 [00:02<00:07, 974.51it/s]\n",
      "  5%|▌         | 5/100 [00:00<00:11,  8.61it/s]\n",
      " 40%|████      | 4047/10000 [00:03<00:05, 1032.08it/s]\n",
      " 67%|██████▋   | 67/100 [00:02<00:01, 28.05it/s]\n",
      " 40%|████      | 4047/10000 [00:03<00:05, 1035.15it/s]\n",
      "  8%|▊         | 8/100 [00:00<00:04, 18.74it/s]\n",
      " 40%|████      | 4047/10000 [00:03<00:05, 1038.50it/s]\n",
      "  4%|▍         | 4/100 [00:00<00:06, 13.83it/s]\n",
      " 40%|████      | 4047/10000 [00:03<00:05, 1037.52it/s]\n",
      " 25%|██▌       | 25/100 [00:01<00:03, 21.08it/s]\n",
      " 40%|████      | 4047/10000 [00:03<00:05, 1042.88it/s]\n",
      "  3%|▎         | 3/100 [00:00<00:09, 10.49it/s]\n",
      " 40%|████      | 4047/10000 [00:03<00:05, 1035.19it/s]\n",
      "  3%|▎         | 3/100 [00:00<00:09, 10.48it/s]\n",
      " 40%|████      | 4047/10000 [00:03<00:05, 1033.12it/s]\n",
      " 25%|██▌       | 25/100 [00:01<00:04, 18.09it/s]\n",
      " 40%|████      | 4047/10000 [00:03<00:05, 1022.72it/s]\n",
      "  5%|▌         | 5/100 [00:00<00:08, 11.67it/s]\n",
      " 40%|████      | 4047/10000 [00:04<00:06, 968.35it/s] \n",
      "100%|██████████| 100/100 [00:04<00:00, 20.17it/s]\n",
      " 40%|████      | 4047/10000 [00:03<00:05, 1018.46it/s]\n",
      " 17%|█▋        | 17/100 [00:01<00:05, 14.68it/s]\n",
      " 40%|████      | 4047/10000 [00:03<00:05, 1026.56it/s]\n",
      "  5%|▌         | 5/100 [00:00<00:08, 10.63it/s]\n",
      " 40%|████      | 4047/10000 [00:03<00:05, 1018.91it/s]\n",
      "  7%|▋         | 7/100 [00:00<00:07, 12.59it/s]\n",
      " 40%|████      | 4047/10000 [00:03<00:05, 1039.58it/s]\n",
      " 53%|█████▎    | 53/100 [00:02<00:01, 24.97it/s]\n",
      " 40%|████      | 4047/10000 [00:03<00:05, 1037.01it/s]\n",
      "  8%|▊         | 8/100 [00:00<00:05, 17.40it/s]\n",
      " 40%|████      | 4047/10000 [00:03<00:05, 1039.75it/s]\n",
      " 39%|███▉      | 39/100 [00:01<00:02, 24.25it/s]\n",
      " 40%|████      | 4047/10000 [00:03<00:05, 1030.54it/s]\n",
      " 26%|██▌       | 26/100 [00:01<00:03, 20.15it/s]\n",
      " 40%|████      | 4047/10000 [00:03<00:05, 1041.03it/s]\n",
      " 11%|█         | 11/100 [00:00<00:05, 16.99it/s]\n",
      " 40%|████      | 4047/10000 [00:03<00:05, 1024.08it/s]\n",
      "  3%|▎         | 3/100 [00:00<00:09,  9.76it/s]\n",
      " 40%|████      | 4047/10000 [00:03<00:05, 1023.24it/s]\n",
      " 25%|██▌       | 25/100 [00:01<00:04, 16.37it/s]\n",
      " 40%|████      | 4047/10000 [00:03<00:05, 1012.56it/s]\n",
      "  5%|▌         | 5/100 [00:00<00:08, 11.18it/s]\n",
      " 40%|████      | 4047/10000 [00:03<00:05, 1022.47it/s]\n",
      " 15%|█▌        | 15/100 [00:00<00:05, 15.60it/s]\n",
      " 40%|████      | 4047/10000 [00:03<00:05, 1013.63it/s]\n",
      " 17%|█▋        | 17/100 [00:01<00:06, 13.78it/s]\n",
      " 40%|████      | 4047/10000 [00:03<00:05, 1021.77it/s]\n",
      "  5%|▌         | 5/100 [00:00<00:09, 10.19it/s]\n",
      " 40%|████      | 4047/10000 [00:03<00:05, 1036.26it/s]\n",
      " 31%|███       | 31/100 [00:02<00:04, 15.43it/s]\n",
      " 40%|████      | 4047/10000 [00:03<00:05, 1032.98it/s]\n",
      " 67%|██████▋   | 67/100 [00:03<00:01, 20.70it/s]\n",
      " 40%|████      | 4047/10000 [00:03<00:05, 1038.54it/s]\n",
      "  8%|▊         | 8/100 [00:00<00:06, 14.81it/s]\n",
      " 40%|████      | 4047/10000 [00:03<00:05, 1037.61it/s]\n",
      "  4%|▍         | 4/100 [00:00<00:08, 11.16it/s]\n",
      " 40%|████      | 4047/10000 [00:03<00:05, 1036.05it/s]\n",
      " 26%|██▌       | 26/100 [00:01<00:04, 16.64it/s]\n",
      " 40%|████      | 4047/10000 [00:03<00:05, 1030.26it/s]\n",
      " 24%|██▍       | 24/100 [00:01<00:04, 16.41it/s]\n",
      " 40%|████      | 4047/10000 [00:04<00:06, 983.63it/s] \n",
      "  4%|▍         | 4/100 [00:00<00:09,  9.91it/s]\n",
      " 40%|████      | 4047/10000 [00:04<00:06, 928.20it/s] \n",
      " 17%|█▋        | 17/100 [00:01<00:07, 11.41it/s]\n",
      " 40%|████      | 4047/10000 [00:04<00:06, 907.95it/s]\n",
      "  5%|▌         | 5/100 [00:00<00:09,  9.69it/s]\n",
      " 40%|████      | 4047/10000 [00:04<00:06, 857.54it/s]\n",
      "  3%|▎         | 3/100 [00:00<00:13,  7.32it/s]\n",
      " 40%|████      | 4047/10000 [00:04<00:06, 884.18it/s]\n",
      " 17%|█▋        | 17/100 [00:01<00:07, 10.80it/s]\n",
      " 40%|████      | 4047/10000 [00:04<00:06, 881.26it/s]\n",
      "  5%|▌         | 5/100 [00:00<00:10,  8.64it/s]\n",
      " 40%|████      | 4047/10000 [00:04<00:06, 883.76it/s]\n",
      " 33%|███▎      | 33/100 [00:02<00:05, 11.18it/s]\n"
     ]
    }
   ],
   "source": [
    "models_DSM= []\n",
    "for param in params_DSM:\n",
    "    model = DeepSurvivalMachines(k = param['k'],\n",
    "                                 distribution = param['distribution'],\n",
    "                                 layers = param['layers'])\n",
    "    # The fit method is called to train the model\n",
    "    model.fit(x_train, t_train, e_train, iters = 100, learning_rate = param['learning_rate'])\n",
    "    models_DSM.append([[model.compute_nll(x_val, t_val, e_val), model]])\n",
    "best_model_DSM= min(models_DSM)\n",
    "\n",
    "model_DSM= best_model_DSM[0][1]"
   ]
  },
  {
   "attachments": {},
   "cell_type": "markdown",
   "metadata": {},
   "source": [
    "# Inference "
   ]
  },
  {
   "cell_type": "code",
   "execution_count": 24,
   "metadata": {},
   "outputs": [],
   "source": [
    "out_risk_DSM = model_DSM.predict_risk(x_test, times)\n",
    "out_survival_DSM = model_DSM.predict_survival(x_test, times)\n"
   ]
  },
  {
   "cell_type": "code",
   "execution_count": 25,
   "metadata": {},
   "outputs": [
    {
     "data": {
      "text/plain": "<Figure size 640x480 with 1 Axes>",
      "image/png": "[encoded data removed]"
     },
     "metadata": {},
     "output_type": "display_data"
    }
   ],
   "source": [
    "import matplotlib.pyplot as plt\n",
    "x_1 =out_risk_DSM[:,1]\n",
    "y_1 = out_survival_DSM[:,1]\n",
    "plt.scatter(x_1,y_1)\n",
    "plt.show()\n"
   ]
  },
  {
   "attachments": {},
   "cell_type": "markdown",
   "metadata": {},
   "source": [
    "# Evaluation"
   ]
  },
  {
   "cell_type": "code",
   "execution_count": 26,
   "metadata": {},
   "outputs": [],
   "source": [
    "from sksurv.metrics import concordance_index_ipcw, brier_score, cumulative_dynamic_auc"
   ]
  },
  {
   "cell_type": "code",
   "execution_count": 27,
   "metadata": {},
   "outputs": [],
   "source": [
    "def evaluate(predictions,out_risk, outcomes_train, outcomes_test,horizons):\n",
    "\n",
    "    from auton_survival.metrics import survival_regression_metric\n",
    "    from sklearn.metrics import roc_auc_score, brier_score_loss\n",
    "    from sksurv import metrics\n",
    "    from sksurv.util import Surv\n",
    "    from tabulate import tabulate\n",
    "  \n",
    "    test_uncensored_aucs = []\n",
    "    test_uncensored_brs = []\n",
    "    test_uncensored_cis = []\n",
    "    #test_censored_eces = []\n",
    "    test_censored_brs = []\n",
    "    test_censored_auc = []\n",
    "    test_censored_cis = []\n",
    "\n",
    "    from lifelines import KaplanMeierFitter\n",
    "\n",
    "    censoring_outcomes = outcomes_train.copy()\n",
    "   \n",
    "    censoring_outcomes.event = 1-censoring_outcomes.event\n",
    "  \n",
    "    censoring_distribution = KaplanMeierFitter().fit(censoring_outcomes.time,\n",
    "                                                     censoring_outcomes.event)\n",
    "   \n",
    "\n",
    "    for i, horizon in enumerate(horizons):\n",
    "\n",
    "        y_pos = outcomes_test.time>=horizon\n",
    "        y_neg = (outcomes_test.time<horizon)&(outcomes_test.event)\n",
    "    \n",
    "        outcomes_uncensored  = outcomes_test.loc[y_pos|y_neg]\n",
    "\n",
    "        y = np.zeros(len(outcomes_uncensored))\n",
    "\n",
    "        y[outcomes_uncensored.time>=horizon] = 1\n",
    "        y[outcomes_uncensored.time<horizon] = 0\n",
    "\n",
    "    \n",
    "        test_uncensored_aucs.append(roc_auc_score(y, predictions[:, i][y_pos|y_neg]))\n",
    "        test_uncensored_brs.append(brier_score_loss(y, predictions[:, i][y_pos|y_neg]))\n",
    "        #test_censored_eces.append(expected_calibration_error(predictions[:, 1], outcomes_test, horizon))\n",
    "    \n",
    "        et_test_control_uncensored = np.array([(outcomes_uncensored.iloc[i, 1], outcomes_uncensored.iloc[i, 0]) for i in range(len(outcomes_uncensored))],\n",
    "                 dtype = [('e', bool), ('t', float)])\n",
    "    \n",
    "        et_train_control = np.array([(outcomes_train.iloc[i,1], outcomes_train.iloc[i,0]) for i in range(len(outcomes_train))],\n",
    "                 dtype = [('e', bool), ('t', float)])\n",
    "        \n",
    "        et_test_control_censored = np.array([(outcomes_test.iloc[i, 1], outcomes_test.iloc[i, 0]) for i in range(len(outcomes_test))],\n",
    "                 dtype = [('e', bool), ('t', float)])\n",
    "\n",
    "\n",
    "        outcomes_uncensored  = outcomes_test.loc[y_pos|y_neg]\n",
    "        out_risk_uncensored = out_risk[y_pos|y_neg]\n",
    "\n",
    "        test_uncensored_cis.append(concordance_index_ipcw(et_train_control, et_test_control_uncensored, out_risk_uncensored[:,i], horizons[i])[0])\n",
    "        \n",
    "        weights = np.ones(outcomes_uncensored.shape[0])\n",
    "        weights = censoring_distribution.predict(outcomes_uncensored.time.values)\n",
    "        weights[outcomes_uncensored.time.values>=horizon] = censoring_distribution.predict(horizon)\n",
    "\n",
    "        weights = 1./np.clip(weights, 1e-3, 1-1e-3)\n",
    "\n",
    "        test_censored_auc.append(roc_auc_score(y, predictions[:, i][y_pos|y_neg], sample_weight=weights))                \n",
    "        test_censored_brs.append(brier_score_loss(y, predictions[:, i][y_pos|y_neg], sample_weight=weights))\n",
    "        test_censored_cis.append(concordance_index_ipcw(et_train_control, et_test_control_censored,out_risk[:,i], horizons[i])[0])\n",
    "    # from auton_survival.metrics import survival_regression_metric\n",
    "\n",
    "    # test_censored_brs = survival_regression_metric('brs', outcomes['test'], predictions['TEST'], horizons, outcomes['train'])\n",
    "    # test_censored_auc = survival_regression_metric('auc', outcomes['test'], predictions['TEST'], horizons, outcomes['train'])\n",
    "\n",
    "    to_print = []\n",
    "    to_print.append(['TEST FOLD PERFORMANCE'])\n",
    "    to_print.append([\"BR on Uncensored Data:\"] + test_uncensored_brs)\n",
    "    to_print.append([\"AUC on Uncensored Data:\"] + test_uncensored_aucs)\n",
    "    to_print.append([\"C-index on Uncensored Data:\"] + test_uncensored_cis)\n",
    "\n",
    "    to_print.append([\"Censoring Adjusted Brier Score:\"] + list(test_censored_brs))\n",
    "    to_print.append([\"Censoring Adjusted AUC:\"] + list(test_censored_auc))\n",
    "    #to_print.append([\"Censoring Adjusted ECE:\"] + list(test_censored_eces))\n",
    "    to_print.append([\"Censoring Adjusted C-index:\"] + list(test_censored_cis))\n",
    "\n",
    "    # to_print.append(['TRAIN FOLD PERFORMANCE'])\n",
    "    # train_censored_brs = metrics.brier_score(survival_train, survival_train, logistic(predictions['TRAIN']), horizons)[-1]\n",
    "    # train_censored_auc = metrics.cumulative_dynamic_auc(survival_train, survival_train, 1-logistic(predictions['TRAIN']), horizons)[0]\n",
    "    # to_print.append([\"Censoring Adjusted Brier Score:\"] + list(train_censored_brs))\n",
    "    # to_print.append([\"Censoring Adjusted AUC:\"] + list(train_censored_auc))\n",
    "\n",
    "    print(tabulate(to_print, headers=[\"METRIC\"]+horizons))"
   ]
  },
  {
   "cell_type": "code",
   "execution_count": 28,
   "outputs": [
    {
     "name": "stdout",
     "output_type": "stream",
     "text": [
      "METRIC                             400.47287923871545    759.1124803503257    1165.297602739726\n",
      "-------------------------------  --------------------  -------------------  -------------------\n",
      "TEST FOLD PERFORMANCE\n",
      "BR on Uncensored Data:                      0.0212296            0.0404679            0.0718065\n",
      "AUC on Uncensored Data:                     0.708785             0.699229             0.688858\n",
      "C-index on Uncensored Data:                 0.706155             0.694384             0.685764\n",
      "Censoring Adjusted Brier Score:             0.0209721            0.0399157            0.0600915\n",
      "Censoring Adjusted AUC:                     0.709053             0.699143             0.691017\n",
      "Censoring Adjusted C-index:                 0.70468              0.694675             0.683325\n"
     ]
    }
   ],
   "source": [
    "# n = len()\n",
    "#\n",
    "# tr_size = int(n*0.50)\n",
    "# vl_size = int(n*0.20)\n",
    "# te_size = int(n*0.30)\n",
    "\n",
    "train =  pd.concat([outcomes_control.iloc[:len(t_train_control)], outcomes_treatment.iloc[:len(t_train_treatment)]])\n",
    "test = pd.concat([outcomes_control.iloc[-len(t_test_control):], outcomes_treatment.iloc[-len(t_test_treatment):]])\n",
    "\n",
    "# outcome_train_DSM =np.concatenate((t_train, e_train), axis = 0)\n",
    "# outcome_test_DSM = np.concatenate((t_test, e_test), axis = 0)\n",
    "#when evaluating, pass the outcomes into evaluate()\n",
    "#pass both out_survival and out_risk\n",
    "evaluate(out_survival_DSM,out_risk_DSM,train, test,times)"
   ],
   "metadata": {
    "collapsed": false
   }
  },
  {
   "attachments": {},
   "cell_type": "markdown",
   "metadata": {},
   "source": [
    "# DCM"
   ]
  },
  {
   "cell_type": "code",
   "execution_count": 29,
   "metadata": {},
   "outputs": [
    {
     "name": "stderr",
     "output_type": "stream",
     "text": [
      "100%|██████████| 10/10 [00:00<00:00, 14.31it/s]\n"
     ]
    },
    {
     "data": {
      "text/plain": "<auton_survival.models.dcm.DeepCoxMixtures at 0x13f4ca96890>"
     },
     "execution_count": 29,
     "metadata": {},
     "output_type": "execute_result"
    }
   ],
   "source": [
    "from auton_survival.models.dcm import DeepCoxMixtures\n",
    "from auton_survival.models.dcm.dcm_utilities import *\n",
    "model_DCM = DeepCoxMixtures()\n",
    "model_DCM.fit(x_train, t_train, e_train, val_data=(x_val,t_val, e_val),\\\n",
    "         iters = 10, learning_rate = 1e-4, batch_size=120,optimizer = 'SGD')"
   ]
  },
  {
   "cell_type": "code",
   "execution_count": 30,
   "outputs": [],
   "source": [
    "out_survival_DCM= model_DCM.predict_survival(x_test, times)\n",
    "out_risk_DCM = 1-out_survival_DCM"
   ],
   "metadata": {
    "collapsed": false
   }
  },
  {
   "cell_type": "code",
   "execution_count": 54,
   "metadata": {},
   "outputs": [
    {
     "name": "stdout",
     "output_type": "stream",
     "text": [
      "1589\n",
      "(1362, 3)\n",
      "Control Groups\n"
     ]
    },
    {
     "ename": "AttributeError",
     "evalue": "'numpy.ndarray' object has no attribute 'event'",
     "output_type": "error",
     "traceback": [
      "\u001B[1;31m---------------------------------------------------------------------------\u001B[0m",
      "\u001B[1;31mAttributeError\u001B[0m                            Traceback (most recent call last)",
      "Cell \u001B[1;32mIn[54], line 15\u001B[0m\n\u001B[0;32m     12\u001B[0m \u001B[38;5;66;03m#when evaluating, pass the outcomes into evaluate()\u001B[39;00m\n\u001B[0;32m     13\u001B[0m \u001B[38;5;66;03m#pass both out_survival and out_risk\u001B[39;00m\n\u001B[0;32m     14\u001B[0m \u001B[38;5;28mprint\u001B[39m(\u001B[38;5;124m\"\u001B[39m\u001B[38;5;124mControl Groups\u001B[39m\u001B[38;5;124m\"\u001B[39m)\n\u001B[1;32m---> 15\u001B[0m \u001B[43mevaluate\u001B[49m\u001B[43m(\u001B[49m\u001B[43mout_survival\u001B[49m\u001B[43m,\u001B[49m\u001B[43mout_risk\u001B[49m\u001B[43m,\u001B[49m\u001B[43mt_train\u001B[49m\u001B[43m,\u001B[49m\u001B[43m \u001B[49m\u001B[43mt_test\u001B[49m\u001B[43m,\u001B[49m\u001B[43mtimes\u001B[49m\u001B[43m)\u001B[49m\n",
      "Cell \u001B[1;32mIn[48], line 21\u001B[0m, in \u001B[0;36mevaluate\u001B[1;34m(predictions, out_risk, outcomes_train, outcomes_test, horizons)\u001B[0m\n\u001B[0;32m     17\u001B[0m \u001B[38;5;28;01mfrom\u001B[39;00m \u001B[38;5;21;01mlifelines\u001B[39;00m \u001B[38;5;28;01mimport\u001B[39;00m KaplanMeierFitter\n\u001B[0;32m     19\u001B[0m censoring_outcomes \u001B[38;5;241m=\u001B[39m outcomes_train\u001B[38;5;241m.\u001B[39mcopy()\n\u001B[1;32m---> 21\u001B[0m censoring_outcomes\u001B[38;5;241m.\u001B[39mevent \u001B[38;5;241m=\u001B[39m \u001B[38;5;241m1\u001B[39m\u001B[38;5;241m-\u001B[39m\u001B[43mcensoring_outcomes\u001B[49m\u001B[38;5;241;43m.\u001B[39;49m\u001B[43mevent\u001B[49m\n\u001B[0;32m     23\u001B[0m censoring_distribution \u001B[38;5;241m=\u001B[39m KaplanMeierFitter()\u001B[38;5;241m.\u001B[39mfit(censoring_outcomes\u001B[38;5;241m.\u001B[39mtime,\n\u001B[0;32m     24\u001B[0m                                                  censoring_outcomes\u001B[38;5;241m.\u001B[39mevent)\n\u001B[0;32m     27\u001B[0m \u001B[38;5;28;01mfor\u001B[39;00m i, horizon \u001B[38;5;129;01min\u001B[39;00m \u001B[38;5;28menumerate\u001B[39m(horizons):\n",
      "\u001B[1;31mAttributeError\u001B[0m: 'numpy.ndarray' object has no attribute 'event'"
     ]
    }
   ],
   "source": [
    "# n = len(x_control)\n",
    "#\n",
    "# tr_size = int(n*0.70)\n",
    "# vl_size = int(n*0.10)\n",
    "# te_size = int(n*0.20)\n",
    "#\n",
    "# train_control = outcomes_control.head(tr_size)\n",
    "# print(len(train_control))\n",
    "# print(out_survival.shape)\n",
    "# test_control = outcomes_control.tail(te_size)\n",
    "#\n",
    "# #when evaluating, pass the outcomes into evaluate()\n",
    "# #pass both out_survival and out_risk\n",
    "# print(\"Control Groups\")\n",
    "# evaluate(out_survival,out_risk,t_train, t_test,times)"
   ]
  },
  {
   "cell_type": "code",
   "execution_count": 31,
   "outputs": [
    {
     "name": "stdout",
     "output_type": "stream",
     "text": [
      "METRIC                             400.47287923871545    759.1124803503257    1165.297602739726\n",
      "-------------------------------  --------------------  -------------------  -------------------\n",
      "TEST FOLD PERFORMANCE\n",
      "BR on Uncensored Data:                      0.0205539            0.0406444            0.074577\n",
      "AUC on Uncensored Data:                     0.586973             0.626919             0.602495\n",
      "C-index on Uncensored Data:                 0.585518             0.623742             0.598466\n",
      "Censoring Adjusted Brier Score:             0.0202741            0.0400317            0.0613376\n",
      "Censoring Adjusted AUC:                     0.586263             0.626735             0.602011\n",
      "Censoring Adjusted C-index:                 0.585301             0.623465             0.60326\n"
     ]
    }
   ],
   "source": [
    "# n = len(outcomes_control)\n",
    "#\n",
    "# tr_size = int(n*0.50)\n",
    "# vl_size = int(n*0.20)\n",
    "# te_size = int(n*0.30)\n",
    "\n",
    "train =  pd.concat([outcomes_control.iloc[:len(t_train_control)], outcomes_treatment.iloc[:len(t_train_treatment)]])\n",
    "test = pd.concat([outcomes_control.iloc[-len(t_test_control):], outcomes_treatment.iloc[-len(t_test_treatment):]])\n",
    "\n",
    "\n",
    "#when evaluating, pass the outcomes into evaluate()\n",
    "#pass both out_survival and out_risk\n",
    "evaluate(out_survival_DCM,out_risk_DCM,train, test,times)"
   ],
   "metadata": {
    "collapsed": false
   }
  },
  {
   "attachments": {},
   "cell_type": "markdown",
   "metadata": {},
   "source": [
    "# CPH"
   ]
  },
  {
   "cell_type": "code",
   "execution_count": null,
   "metadata": {},
   "outputs": [],
   "source": [
    "# x_control, y_control = features_control, outcomes_control\n",
    "#\n",
    "#\n",
    "# n = len(x_control)\n",
    "#\n",
    "# tr_size = int(n*0.70)\n",
    "# vl_size = int(n*0.10)\n",
    "# te_size = int(n*0.20)\n",
    "#\n",
    "# x_train_control, x_test_control, x_val_control = x_control.iloc[:tr_size], x_control.iloc[-te_size:], x_control.iloc[tr_size:tr_size+vl_size]\n",
    "# y_train_control, y_test_control, y_val_control = y_control.iloc[:tr_size], y_control.iloc[-te_size:], y_control.iloc[tr_size:tr_size+vl_size]\n"
   ]
  },
  {
   "cell_type": "code",
   "execution_count": 32,
   "outputs": [],
   "source": [
    "# x, y = dataset.features, dataset.outcomes\n",
    "y = pd.concat([outcomes_control,outcomes_treatment])\n",
    "x = pd.concat([features_control,features_treatment])\n",
    "n = len(x)\n",
    "\n",
    "tr_size = int(n*0.70)\n",
    "vl_size = int(n*0.10)\n",
    "te_size = int(n*0.20)\n",
    "\n",
    "x_train, x_test, x_val = x.iloc[:tr_size], x.iloc[-te_size:], x.iloc[tr_size:tr_size+vl_size]\n",
    "y_train, y_test, y_val = y.iloc[:tr_size], y.iloc[-te_size:], y.iloc[tr_size:tr_size+vl_size]\n"
   ],
   "metadata": {
    "collapsed": false
   }
  },
  {
   "cell_type": "code",
   "execution_count": 33,
   "metadata": {},
   "outputs": [],
   "source": [
    "param_grid_CPH = {'l2' : [1e-3, 1e-4]}\n",
    "params_CPH = ParameterGrid(param_grid_CPH)"
   ]
  },
  {
   "cell_type": "code",
   "execution_count": 34,
   "metadata": {},
   "outputs": [],
   "source": [
    "from auton_survival.estimators import SurvivalModel\n",
    "from auton_survival.metrics import survival_regression_metric\n",
    "models_cph = []\n",
    "for param in params_CPH:\n",
    "    model = SurvivalModel('cph', random_seed=2, l2=param['l2'])\n",
    "\n",
    "    # The fit method is called to train the model\n",
    "    model.fit(x_train,y_train)\n",
    "\n",
    "    # Obtain survival probabilities for validation set and compute the Integrated Brier Score\n",
    "    predictions_val = model.predict_survival(x_val, times)\n",
    "    metric_val = survival_regression_metric('ibs', y_val, predictions_val, times, y_train)\n",
    "    models_cph.append([metric_val, model])\n",
    "\n",
    "# Select the best model based on the mean metric value computed for the validation set\n",
    "metric_vals = [i[0] for i in models_cph]\n",
    "first_min_idx = metric_vals.index(min(metric_vals))\n",
    "model_best_cph = models_cph[first_min_idx][1]"
   ]
  },
  {
   "cell_type": "code",
   "execution_count": 35,
   "metadata": {},
   "outputs": [],
   "source": [
    "out_survival_cph = model_best_cph.predict_survival(x_test, times)\n",
    "out_risk_cph = 1-out_survival_cph"
   ]
  },
  {
   "cell_type": "code",
   "execution_count": 36,
   "metadata": {},
   "outputs": [
    {
     "name": "stdout",
     "output_type": "stream",
     "text": [
      "Treatment Groups\n",
      "METRIC                             400.47287923871545    759.1124803503257    1165.297602739726\n",
      "-------------------------------  --------------------  -------------------  -------------------\n",
      "TEST FOLD PERFORMANCE\n",
      "BR on Uncensored Data:                      0.0241246            0.0370054            0.0733041\n",
      "AUC on Uncensored Data:                     0.670152             0.694407             0.691504\n",
      "C-index on Uncensored Data:                 0.668081             0.690587             0.685916\n",
      "Censoring Adjusted Brier Score:             0.0238117            0.0363526            0.0624438\n",
      "Censoring Adjusted AUC:                     0.670653             0.695009             0.692477\n",
      "Censoring Adjusted C-index:                 0.664425             0.688983             0.684238\n"
     ]
    }
   ],
   "source": [
    "print(\"Treatment Groups\")\n",
    "evaluate(out_survival_cph,out_risk_cph,y_train, y_test,times)"
   ]
  }
 ],
 "metadata": {
  "kernelspec": {
   "display_name": "Python 3",
   "language": "python",
   "name": "python3"
  },
  "language_info": {
   "codemirror_mode": {
    "name": "ipython",
    "version": 3
   },
   "file_extension": ".py",
   "mimetype": "text/x-python",
   "name": "python",
   "nbconvert_exporter": "python",
   "pygments_lexer": "ipython3",
   "version": "3.8.16"
  },
  "orig_nbformat": 4
 },
 "nbformat": 4,
 "nbformat_minor": 2
}
