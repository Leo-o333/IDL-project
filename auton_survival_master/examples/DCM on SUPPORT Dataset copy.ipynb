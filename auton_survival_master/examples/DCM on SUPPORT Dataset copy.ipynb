{
 "cells": [
  {
   "cell_type": "markdown",
   "metadata": {},
   "source": [
    "# DSM on SUPPORT Dataset"
   ]
  },
  {
   "cell_type": "markdown",
   "metadata": {},
   "source": [
    "The SUPPORT dataset comes from the Vanderbilt University study\n",
    "to estimate survival for seriously ill hospitalized adults.\n",
    "(Refer to http://biostat.mc.vanderbilt.edu/wiki/Main/SupportDesc.\n",
    "for the original datasource.)\n",
    "\n",
    "In this notebook, we will apply Deep Survival Machines for survival prediction on the SUPPORT data."
   ]
  },
  {
   "cell_type": "markdown",
   "metadata": {},
   "source": [
    "### Load the SUPPORT Dataset\n",
    "\n",
    "The package includes helper functions to load the dataset.\n",
    "\n",
    "X represents an np.array of features (covariates),\n",
    "T is the event/censoring times and,\n",
    "E is the censoring indicator."
   ]
  },
  {
   "cell_type": "code",
   "execution_count": 21,
   "metadata": {},
   "outputs": [
    {
     "name": "stdout",
     "output_type": "stream",
     "text": [
      "c:\\Users\\tiant\\OneDrive\\桌面\\IntroToDL\\project\\surv-rcts\n"
     ]
    }
   ],
   "source": [
    "import os\n",
    "\n",
    "\n",
    "a = os.getcwd()\n",
    "%cd c:/Users/tiant/OneDrive/桌面/IntroToDL/project/surv-rcts/\n",
    "\n"
   ]
  },
  {
   "cell_type": "code",
   "execution_count": 22,
   "metadata": {},
   "outputs": [],
   "source": [
    "from auton_survival.models.dsm import datasets\n",
    "x, t, e = datasets.load_dataset('SUPPORT')"
   ]
  },
  {
   "cell_type": "markdown",
   "metadata": {},
   "source": [
    "### Compute horizons at which we evaluate the performance of DSM\n",
    "\n",
    "Survival predictions are issued at certain time horizons. Here we will evaluate the performance\n",
    "of DSM to issue predictions at the 25th, 50th and 75th event time quantile as is standard practice in Survival Analysis."
   ]
  },
  {
   "cell_type": "code",
   "execution_count": 59,
   "metadata": {},
   "outputs": [],
   "source": [
    "import numpy as np\n",
    "horizons = [0.25, 0.5, 0.75]\n",
    "times = np.quantile(t[e==1], horizons).tolist()\n",
    "# times =  [365.0,730.0,1825.0]"
   ]
  },
  {
   "cell_type": "markdown",
   "metadata": {},
   "source": [
    "### Splitting the data into train, test and validation sets\n",
    "\n",
    "We will train DSM on 70% of the Data, use a Validation set of 10% for Model Selection and report performance on the remaining 20% held out test set."
   ]
  },
  {
   "cell_type": "code",
   "execution_count": 34,
   "metadata": {},
   "outputs": [],
   "source": [
    "n = len(x)\n",
    "\n",
    "tr_size = int(n*0.70)\n",
    "vl_size = int(n*0.10)\n",
    "te_size = int(n*0.20)\n",
    "\n",
    "x_train, x_test, x_val = x[:tr_size], x[-te_size:], x[tr_size:tr_size+vl_size]\n",
    "t_train, t_test, t_val = t[:tr_size], t[-te_size:], t[tr_size:tr_size+vl_size]\n",
    "e_train, e_test, e_val = e[:tr_size], e[-te_size:], e[tr_size:tr_size+vl_size]"
   ]
  },
  {
   "cell_type": "markdown",
   "metadata": {},
   "source": [
    "### Setting the parameter grid\n",
    "\n",
    "Lets set up the parameter grid to tune hyper-parameters. We will tune the number of underlying survival distributions, \n",
    "($K$), the distribution choices (Log-Normal or Weibull), the learning rate for the Adam optimizer between $1\\times10^{-3}$ and $1\\times10^{-4}$ and the number of hidden layers between $0, 1$ and $2$."
   ]
  },
  {
   "cell_type": "code",
   "execution_count": 35,
   "metadata": {},
   "outputs": [],
   "source": [
    "from sklearn.model_selection import ParameterGrid"
   ]
  },
  {
   "cell_type": "code",
   "execution_count": 36,
   "metadata": {},
   "outputs": [],
   "source": [
    "param_grid = {'k' : [3, 4, 6],\n",
    "              'distribution' : ['LogNormal', 'Weibull'],\n",
    "              'learning_rate' : [ 1e-4, 1e-3],\n",
    "              'layers' : [ [], [100], [100, 100] ]\n",
    "             }\n",
    "params = ParameterGrid(param_grid)"
   ]
  },
  {
   "cell_type": "code",
   "execution_count": 46,
   "metadata": {},
   "outputs": [],
   "source": [
    "et_train = np.array([(e_train[i], t_train[i]) for i in range(len(e_train))],\n",
    "                 dtype = [('e', bool), ('t', float)])\n",
    "et_test = np.array([(e_test[i], t_test[i]) for i in range(len(e_test))],\n",
    "                 dtype = [('e', bool), ('t', float)])\n",
    "et_val = np.array([(e_val[i], t_val[i]) for i in range(len(e_val))],\n",
    "                 dtype = [('e', bool), ('t', float)])"
   ]
  },
  {
   "cell_type": "markdown",
   "metadata": {},
   "source": [
    "### Model Training and Selection"
   ]
  },
  {
   "cell_type": "code",
   "execution_count": 47,
   "metadata": {},
   "outputs": [],
   "source": [
    "from models.dsm import DeepSurvivalMachines"
   ]
  },
  {
   "cell_type": "code",
   "execution_count": 51,
   "metadata": {},
   "outputs": [],
   "source": [
    "\n",
    "from sksurv.metrics import concordance_index_ipcw, brier_score, cumulative_dynamic_auc"
   ]
  },
  {
   "cell_type": "code",
   "execution_count": 57,
   "metadata": {},
   "outputs": [],
   "source": [
    "import sksurv"
   ]
  },
  {
   "cell_type": "code",
   "execution_count": 60,
   "metadata": {
    "scrolled": true
   },
   "outputs": [
    {
     "name": "stderr",
     "output_type": "stream",
     "text": [
      " 12%|█▏        | 1190/10000 [00:01<00:14, 611.95it/s]\n",
      "100%|██████████| 100/100 [00:12<00:00,  7.78it/s]\n",
      " 12%|█▏        | 1190/10000 [00:01<00:14, 612.20it/s]\n",
      " 56%|█████▌    | 56/100 [00:07<00:05,  7.44it/s]\n",
      " 12%|█▏        | 1190/10000 [00:01<00:12, 700.54it/s]\n",
      " 92%|█████████▏| 92/100 [00:14<00:01,  6.41it/s]\n",
      " 12%|█▏        | 1190/10000 [00:01<00:14, 606.86it/s]\n",
      " 16%|█▌        | 16/100 [00:03<00:15,  5.32it/s]\n",
      " 12%|█▏        | 1190/10000 [00:01<00:14, 622.53it/s]\n",
      " 60%|██████    | 60/100 [00:14<00:09,  4.15it/s]\n",
      " 12%|█▏        | 1190/10000 [00:02<00:20, 421.17it/s]\n",
      " 11%|█         | 11/100 [00:03<00:26,  3.37it/s]\n",
      " 12%|█▏        | 1190/10000 [00:02<00:20, 440.33it/s]\n",
      "100%|██████████| 100/100 [00:22<00:00,  4.37it/s]\n",
      " 12%|█▏        | 1190/10000 [00:02<00:20, 426.30it/s]\n",
      " 92%|█████████▏| 92/100 [00:22<00:01,  4.01it/s]\n",
      " 12%|█▏        | 1190/10000 [00:02<00:22, 398.92it/s]\n",
      " 92%|█████████▏| 92/100 [00:26<00:02,  3.41it/s]\n",
      " 12%|█▏        | 1190/10000 [00:02<00:20, 423.14it/s]\n",
      " 16%|█▌        | 16/100 [00:04<00:24,  3.48it/s]\n",
      " 12%|█▏        | 1190/10000 [00:02<00:20, 420.83it/s]\n",
      " 60%|██████    | 60/100 [00:18<00:12,  3.33it/s]\n",
      " 12%|█▏        | 1190/10000 [00:02<00:21, 404.57it/s]\n",
      " 16%|█▌        | 16/100 [00:06<00:32,  2.57it/s]\n",
      " 12%|█▏        | 1190/10000 [00:02<00:21, 408.56it/s]\n",
      "100%|██████████| 100/100 [00:29<00:00,  3.34it/s]\n",
      " 12%|█▏        | 1190/10000 [00:02<00:20, 425.08it/s]\n",
      " 56%|█████▌    | 56/100 [00:17<00:13,  3.15it/s]\n",
      " 12%|█▏        | 1190/10000 [00:02<00:21, 417.12it/s]\n",
      " 92%|█████████▏| 92/100 [00:30<00:02,  3.00it/s]\n",
      " 12%|█▏        | 1190/10000 [00:02<00:21, 414.62it/s]\n",
      " 16%|█▌        | 16/100 [00:05<00:29,  2.86it/s]\n",
      " 12%|█▏        | 1190/10000 [00:02<00:20, 424.13it/s]\n",
      " 75%|███████▌  | 75/100 [00:27<00:09,  2.70it/s]\n",
      " 12%|█▏        | 1190/10000 [00:02<00:21, 415.44it/s]\n",
      " 38%|███▊      | 38/100 [00:15<00:25,  2.47it/s]\n",
      " 18%|█▊        | 1797/10000 [00:04<00:20, 395.87it/s]\n",
      "100%|██████████| 100/100 [00:18<00:00,  5.53it/s]\n",
      " 18%|█▊        | 1797/10000 [00:04<00:20, 404.76it/s]\n",
      " 51%|█████     | 51/100 [00:09<00:09,  5.27it/s]\n",
      " 18%|█▊        | 1797/10000 [00:04<00:20, 393.14it/s]\n",
      " 47%|████▋     | 47/100 [00:10<00:12,  4.37it/s]\n",
      " 18%|█▊        | 1797/10000 [00:04<00:20, 395.10it/s]\n",
      " 19%|█▉        | 19/100 [00:04<00:19,  4.25it/s]\n",
      " 18%|█▊        | 1797/10000 [00:04<00:20, 402.43it/s]\n",
      " 81%|████████  | 81/100 [00:20<00:04,  3.92it/s]\n",
      " 18%|█▊        | 1797/10000 [00:04<00:21, 378.71it/s]\n",
      "  9%|▉         | 9/100 [00:03<00:34,  2.63it/s]\n",
      " 18%|█▊        | 1797/10000 [00:05<00:23, 342.42it/s]\n",
      "100%|██████████| 100/100 [00:21<00:00,  4.63it/s]\n",
      " 18%|█▊        | 1797/10000 [00:04<00:20, 392.45it/s]\n",
      " 78%|███████▊  | 78/100 [00:17<00:04,  4.54it/s]\n",
      " 18%|█▊        | 1797/10000 [00:04<00:21, 379.12it/s]\n",
      " 48%|████▊     | 48/100 [00:12<00:13,  3.80it/s]\n",
      " 18%|█▊        | 1797/10000 [00:04<00:20, 393.81it/s]\n",
      " 17%|█▋        | 17/100 [00:04<00:22,  3.73it/s]\n",
      " 18%|█▊        | 1797/10000 [00:04<00:21, 376.62it/s]\n",
      " 60%|██████    | 60/100 [00:17<00:11,  3.34it/s]\n",
      " 18%|█▊        | 1797/10000 [00:04<00:20, 394.96it/s]\n",
      " 14%|█▍        | 14/100 [00:04<00:25,  3.43it/s]\n",
      " 18%|█▊        | 1797/10000 [00:04<00:19, 419.63it/s]\n",
      "100%|██████████| 100/100 [00:25<00:00,  3.94it/s]\n",
      " 18%|█▊        | 1797/10000 [00:04<00:21, 384.91it/s]\n",
      " 78%|███████▊  | 78/100 [00:20<00:05,  3.74it/s]\n",
      " 18%|█▊        | 1797/10000 [00:04<00:20, 401.31it/s]\n",
      " 93%|█████████▎| 93/100 [00:28<00:02,  3.29it/s]\n",
      " 18%|█▊        | 1797/10000 [00:04<00:21, 386.44it/s]\n",
      " 17%|█▋        | 17/100 [00:05<00:26,  3.14it/s]\n",
      " 18%|█▊        | 1797/10000 [00:04<00:20, 393.88it/s]\n",
      " 34%|███▍      | 34/100 [00:11<00:22,  2.98it/s]\n",
      " 18%|█▊        | 1797/10000 [00:04<00:20, 405.67it/s]\n",
      "  9%|▉         | 9/100 [00:02<00:25,  3.53it/s]\n"
     ]
    }
   ],
   "source": [
    "models = []\n",
    "# temp_pred_survival = []\n",
    "brier_score_li = []\n",
    "for param in params:\n",
    "    model = DeepSurvivalMachines(k = param['k'],\n",
    "                                 distribution = param['distribution'],\n",
    "                                 layers = param['layers'])\n",
    "    # The fit method is called to train the model\n",
    "    model.fit(x_train, t_train, e_train, iters = 100, learning_rate = param['learning_rate'])\n",
    "    temp_pred_survival=model.predict_survival(x_val, times)\n",
    "    brier_score_li.append(sksurv.metrics.brier_score(et_train, et_val,temp_pred_survival,times)[1])\n",
    "    models.append(model)\n",
    "min_id = np.argmin(np.mean(brier_score_li, axis = 1))\n",
    "best_model = models[min_id]\n",
    "model = best_model"
   ]
  },
  {
   "cell_type": "code",
   "execution_count": null,
   "metadata": {},
   "outputs": [],
   "source": []
  },
  {
   "cell_type": "markdown",
   "metadata": {},
   "source": [
    "### Inference"
   ]
  },
  {
   "cell_type": "code",
   "execution_count": 61,
   "metadata": {},
   "outputs": [],
   "source": [
    "out_risk = model.predict_risk(x_test, times)\n",
    "out_survival = model.predict_survival(x_test, times)"
   ]
  },
  {
   "cell_type": "markdown",
   "metadata": {},
   "source": [
    "### Evaluation\n",
    "\n",
    "We evaluate the performance of DSM in its discriminative ability (Time Dependent Concordance Index and Cumulative Dynamic AUC) as well as Brier Score."
   ]
  },
  {
   "cell_type": "code",
   "execution_count": 40,
   "metadata": {},
   "outputs": [],
   "source": [
    "from sksurv.metrics import concordance_index_ipcw, brier_score, cumulative_dynamic_auc"
   ]
  },
  {
   "cell_type": "code",
   "execution_count": 64,
   "metadata": {},
   "outputs": [
    {
     "name": "stdout",
     "output_type": "stream",
     "text": [
      "For 14.0 quantile,\n",
      "TD Concordance Index: 0.769235123736921\n",
      "Brier Score: 0.10683213723233631\n",
      "ROC AUC  0.7799235172282094 \n",
      "\n",
      "check []\n",
      "For 58.0 quantile,\n",
      "TD Concordance Index: 0.7022526475634527\n",
      "Brier Score: 0.1788751530648107\n",
      "ROC AUC  0.7248558672572594 \n",
      "\n",
      "check []\n",
      "For 252.0 quantile,\n",
      "TD Concordance Index: 0.6683970644775017\n",
      "Brier Score: 0.21518664042971875\n",
      "ROC AUC  0.717063064154601 \n",
      "\n",
      "check []\n"
     ]
    }
   ],
   "source": [
    "cis = []\n",
    "brs = []\n",
    "check = []\n",
    "et_train = np.array([(e_train[i], t_train[i]) for i in range(len(e_train))],\n",
    "                 dtype = [('e', bool), ('t', float)])\n",
    "et_test = np.array([(e_test[i], t_test[i]) for i in range(len(e_test))],\n",
    "                 dtype = [('e', bool), ('t', float)])\n",
    "et_val = np.array([(e_val[i], t_val[i]) for i in range(len(e_val))],\n",
    "                 dtype = [('e', bool), ('t', float)])\n",
    "\n",
    "for i, _ in enumerate(times):\n",
    "    cis.append(concordance_index_ipcw(et_train, et_test, out_risk[:, i], times[i])[0])\n",
    "    # check.append(brier_score(et_train, et_test, out_survival, times))\n",
    "brs.append(sksurv.metrics.brier_score(et_train, et_test, out_survival, times)[1])\n",
    "roc_auc = []\n",
    "for i, _ in enumerate(times):\n",
    "    roc_auc.append(cumulative_dynamic_auc(et_train, et_test, out_risk[:, i], times[i])[0])\n",
    "for horizon in enumerate(times):\n",
    "    print(f\"For {horizon[1]} quantile,\")\n",
    "    print(\"TD Concordance Index:\", cis[horizon[0]])\n",
    "    print(\"Brier Score:\", brs[0][horizon[0]])\n",
    "    print(\"ROC AUC \", roc_auc[horizon[0]][0], \"\\n\")\n",
    "    print('check',check)"
   ]
  }
 ],
 "metadata": {
  "kernelspec": {
   "display_name": "Python 3",
   "language": "python",
   "name": "python3"
  },
  "language_info": {
   "codemirror_mode": {
    "name": "ipython",
    "version": 3
   },
   "file_extension": ".py",
   "mimetype": "text/x-python",
   "name": "python",
   "nbconvert_exporter": "python",
   "pygments_lexer": "ipython3",
   "version": "3.10.9"
  }
 },
 "nbformat": 4,
 "nbformat_minor": 4
}
